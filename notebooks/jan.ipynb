{
 "cells": [
  {
   "cell_type": "markdown",
   "metadata": {},
   "source": [
    "# Data Analysis"
   ]
  },
  {
   "cell_type": "markdown",
   "metadata": {},
   "source": [
    "## Setup"
   ]
  },
  {
   "cell_type": "code",
   "execution_count": 1,
   "metadata": {},
   "outputs": [],
   "source": [
    "import pandas as pd\n",
    "import numpy as np\n",
    "import json\n",
    "import matplotlib.pyplot as plt\n",
    "import squarify"
   ]
  },
  {
   "cell_type": "code",
   "execution_count": 2,
   "metadata": {},
   "outputs": [],
   "source": [
    "pd.set_option(\"display.precision\", 3)\n",
    "pd.set_option('future.no_silent_downcasting', True)"
   ]
  },
  {
   "cell_type": "markdown",
   "metadata": {},
   "source": [
    "## Transactions by Residency\n",
    "\n",
    "Since the data is really similar for buyers and seller, we'll focus on the buyers for clarity."
   ]
  },
  {
   "cell_type": "markdown",
   "metadata": {},
   "source": [
    "### Preprocessing"
   ]
  },
  {
   "cell_type": "code",
   "execution_count": 3,
   "metadata": {},
   "outputs": [
    {
     "data": {
      "application/vnd.microsoft.datawrangler.viewer.v0+json": {
       "columns": [
        {
         "name": "index",
         "rawType": "int64",
         "type": "integer"
        },
        {
         "name": "MKOOD",
         "rawType": "object",
         "type": "string"
        },
        {
         "name": "data",
         "rawType": "object",
         "type": "unknown"
        }
       ],
       "conversionMethod": "pd.DataFrame",
       "ref": "0a0d0cf7-dc3c-4f5a-8f6f-750e3b1580ac",
       "rows": [
        [
         "0",
         "0037",
         "{'2010': [{'Name': 'United States of America', 'Number': 27, 'Total area (ha)': 26.0, 'Total value (eur)': 942887}, {'Name': 'Estonia', 'Number': 19431, 'Total area (ha)': 10946.0, 'Total value (eur)': 923437268}, {'Name': 'Ireland', 'Number': 9, 'Total area (ha)': 0.2, 'Total value (eur)': 368575}, {'Name': 'Italy', 'Number': 12, 'Total area (ha)': 0.1, 'Total value (eur)': 565105}, {'Name': 'Canada', 'Number': 5, 'Total area (ha)': 0.0, 'Total value (eur)': 169590}, {'Name': 'Latvia', 'Number': 5, 'Total area (ha)': 0.30000000000000004, 'Total value (eur)': 174049}, {'Name': 'Netherlands', 'Number': 5, 'Total area (ha)': 0.1, 'Total value (eur)': 192046}, {'Name': 'Monaco', 'Number': 42, 'Total area (ha)': 21.0, 'Total value (eur)': 5984510}, {'Name': 'France', 'Number': 7, 'Total area (ha)': 0.1, 'Total value (eur)': 451536}, {'Name': 'Sweden', 'Number': 35, 'Total area (ha)': 72.0, 'Total value (eur)': 1942384}, {'Name': 'Germany', 'Number': 19, 'Total area (ha)': 0.2, 'Total value (eur)': 887464}, {'Name': 'Finland', 'Number': 405, 'Total area (ha)': 18.0, 'Total value (eur)': 22115679}, {'Name': 'United Kingdom', 'Number': 28, 'Total area (ha)': 3.0, 'Total value (eur)': 1161784}, {'Name': 'Switzerland', 'Number': 6, 'Total area (ha)': 0.1, 'Total value (eur)': 325630}, {'Name': 'Ukraine', 'Number': 16, 'Total area (ha)': 0.4, 'Total value (eur)': 505701}, {'Name': 'Belarus', 'Number': 11, 'Total area (ha)': 0.0, 'Total value (eur)': 279796}, {'Name': 'Russian Federation', 'Number': 160, 'Total area (ha)': 11.0, 'Total value (eur)': 7110794}, {'Name': 'Other residents', 'Number': 32, 'Total area (ha)': 14.0, 'Total value (eur)': 3968673}, {'Name': 'TOTAL', 'Number': 20255, 'Total area (ha)': 11112.0, 'Total value (eur)': 970583471}], '2011': [{'Name': 'United States of America', 'Number': 16, 'Total area (ha)': 0.7000000000000001, 'Total value (eur)': 982417}, {'Name': 'Belgium', 'Number': 13, 'Total area (ha)': 0.5, 'Total value (eur)': 731577}, {'Name': 'Estonia', 'Number': 20364, 'Total area (ha)': 13165.0, 'Total value (eur)': 1149660813}, {'Name': 'Spain', 'Number': 5, 'Total area (ha)': 0.1, 'Total value (eur)': 204098}, {'Name': 'Monaco', 'Number': 13, 'Total area (ha)': 13.0, 'Total value (eur)': 4735614}, {'Name': 'Norway', 'Number': 8, 'Total area (ha)': 19.0, 'Total value (eur)': 323148}, {'Name': 'Sweden', 'Number': 35, 'Total area (ha)': 4.0, 'Total value (eur)': 2164878}, {'Name': 'Germany', 'Number': 16, 'Total area (ha)': 1.0, 'Total value (eur)': 258241}, {'Name': 'Finland', 'Number': 350, 'Total area (ha)': 18.0, 'Total value (eur)': 16221629}, {'Name': 'United Kingdom', 'Number': 11, 'Total area (ha)': 2.0, 'Total value (eur)': 646809}, {'Name': 'Switzerland', 'Number': 6, 'Total area (ha)': 0.0, 'Total value (eur)': 420475}, {'Name': 'Turkey', 'Number': 5, 'Total area (ha)': 4.0, 'Total value (eur)': 99824}, {'Name': 'Ukraine', 'Number': 9, 'Total area (ha)': 0.1, 'Total value (eur)': 311294}, {'Name': 'Belarus', 'Number': 6, 'Total area (ha)': 0.1, 'Total value (eur)': 597746}, {'Name': 'Russian Federation', 'Number': 184, 'Total area (ha)': 5.0, 'Total value (eur)': 7588256}, {'Name': 'Other residents', 'Number': 50, 'Total area (ha)': 137.0, 'Total value (eur)': 3838408}, {'Name': 'TOTAL', 'Number': 21091, 'Total area (ha)': 13368.0, 'Total value (eur)': 1188785227}], '2012': [{'Name': 'United States of America', 'Number': 8, 'Total area (ha)': 5.0, 'Total value (eur)': 204244}, {'Name': 'Austria', 'Number': 6, 'Total area (ha)': 0.0, 'Total value (eur)': 177000}, {'Name': 'Belgium', 'Number': 10, 'Total area (ha)': 0.2, 'Total value (eur)': 511200}, {'Name': 'Estonia', 'Number': 22868, 'Total area (ha)': 11689.0, 'Total value (eur)': 1263765662}, {'Name': 'Italy', 'Number': 11, 'Total area (ha)': 0.7000000000000001, 'Total value (eur)': 234244}, {'Name': 'Canada', 'Number': 6, 'Total area (ha)': 8.0, 'Total value (eur)': 701424}, {'Name': 'Cyprus', 'Number': 6, 'Total area (ha)': 1.0, 'Total value (eur)': 631800}, {'Name': 'Luxembourg', 'Number': 10, 'Total area (ha)': 4.0, 'Total value (eur)': 194500}, {'Name': 'Latvia', 'Number': 7, 'Total area (ha)': 0.1, 'Total value (eur)': 95000}, {'Name': 'Netherlands', 'Number': 10, 'Total area (ha)': 13.0, 'Total value (eur)': 213165}, {'Name': 'Norway', 'Number': 10, 'Total area (ha)': 0.2, 'Total value (eur)': 607790}, {'Name': 'France', 'Number': 9, 'Total area (ha)': 0.2, 'Total value (eur)': 440480}, {'Name': 'Sweden', 'Number': 36, 'Total area (ha)': 80.0, 'Total value (eur)': 1232023}, {'Name': 'Germany', 'Number': 23, 'Total area (ha)': 3.0, 'Total value (eur)': 998544}, {'Name': 'Finland', 'Number': 271, 'Total area (ha)': 19.0, 'Total value (eur)': 15488323}, {'Name': 'United Kingdom', 'Number': 28, 'Total area (ha)': 0.4, 'Total value (eur)': 1348951}, {'Name': 'Switzerland', 'Number': 9, 'Total area (ha)': 0.0, 'Total value (eur)': 450204}, {'Name': 'Ukraine', 'Number': 18, 'Total area (ha)': 0.2, 'Total value (eur)': 201990}, {'Name': 'Russian Federation', 'Number': 225, 'Total area (ha)': 5.0, 'Total value (eur)': 9154704}, {'Name': 'Other residents', 'Number': 25, 'Total area (ha)': 4.0, 'Total value (eur)': 2496004}, {'Name': 'TOTAL', 'Number': 23596, 'Total area (ha)': 11832.0, 'Total value (eur)': 1299147252}], '2013': [{'Name': 'United States of America', 'Number': 11, 'Total area (ha)': 0.1, 'Total value (eur)': 509224}, {'Name': 'Australia', 'Number': 6, 'Total area (ha)': 0.0, 'Total value (eur)': 702495}, {'Name': 'Belgium', 'Number': 7, 'Total area (ha)': 0.1, 'Total value (eur)': 261745}, {'Name': 'Estonia', 'Number': 25401, 'Total area (ha)': 12004.0, 'Total value (eur)': 1506412093}, {'Name': 'Spain', 'Number': 5, 'Total area (ha)': 0.0, 'Total value (eur)': 165600}, {'Name': 'Ireland', 'Number': 5, 'Total area (ha)': 0.1, 'Total value (eur)': 537000}, {'Name': 'Italy', 'Number': 9, 'Total area (ha)': 0.0, 'Total value (eur)': 899835}, {'Name': 'Canada', 'Number': 6, 'Total area (ha)': 16.0, 'Total value (eur)': 90999}, {'Name': 'Luxembourg', 'Number': 5, 'Total area (ha)': 0.0, 'Total value (eur)': 259000}, {'Name': 'Latvia', 'Number': 10, 'Total area (ha)': 0.2, 'Total value (eur)': 546930}, {'Name': 'Norway', 'Number': 13, 'Total area (ha)': 22.0, 'Total value (eur)': 585751}, {'Name': 'France', 'Number': 5, 'Total area (ha)': 0.0, 'Total value (eur)': 458852}, {'Name': 'Sweden', 'Number': 26, 'Total area (ha)': 159.0, 'Total value (eur)': 1538684}, {'Name': 'Germany', 'Number': 13, 'Total area (ha)': 0.1, 'Total value (eur)': 229832}, {'Name': 'Finland', 'Number': 223, 'Total area (ha)': 93.0, 'Total value (eur)': 10354660}, {'Name': 'United Kingdom', 'Number': 13, 'Total area (ha)': 0.1, 'Total value (eur)': 768529}, {'Name': 'Switzerland', 'Number': 9, 'Total area (ha)': 1.0, 'Total value (eur)': 1622000}, {'Name': 'Ukraine', 'Number': 11, 'Total area (ha)': 0.1, 'Total value (eur)': 341500}, {'Name': 'Russian Federation', 'Number': 177, 'Total area (ha)': 6.0, 'Total value (eur)': 11295069}, {'Name': 'Other residents', 'Number': 43, 'Total area (ha)': 18.0, 'Total value (eur)': 4209211}, {'Name': 'TOTAL', 'Number': 25998, 'Total area (ha)': 12319.0, 'Total value (eur)': 1541789009}], '2014': [{'Name': 'United States of America', 'Number': 14, 'Total area (ha)': 22.0, 'Total value (eur)': 1363799}, {'Name': 'Belgium', 'Number': 10, 'Total area (ha)': 1.0, 'Total value (eur)': 591000}, {'Name': 'Estonia', 'Number': 26838, 'Total area (ha)': 12886.0, 'Total value (eur)': 1700925338}, {'Name': 'Italy', 'Number': 5, 'Total area (ha)': 0.0, 'Total value (eur)': 324700}, {'Name': 'Latvia', 'Number': 11, 'Total area (ha)': 0.30000000000000004, 'Total value (eur)': 1190950}, {'Name': 'Netherlands', 'Number': 6, 'Total area (ha)': 3.0, 'Total value (eur)': 150521}, {'Name': 'France', 'Number': 10, 'Total area (ha)': 0.1, 'Total value (eur)': 443650}, {'Name': 'Sweden', 'Number': 29, 'Total area (ha)': 8.0, 'Total value (eur)': 1150393}, {'Name': 'Germany', 'Number': 19, 'Total area (ha)': 0.6000000000000001, 'Total value (eur)': 830109}, {'Name': 'Finland', 'Number': 214, 'Total area (ha)': 145.0, 'Total value (eur)': 11871228}, {'Name': 'United Kingdom', 'Number': 34, 'Total area (ha)': 13.0, 'Total value (eur)': 2432543}, {'Name': 'Ukraine', 'Number': 27, 'Total area (ha)': 1.0, 'Total value (eur)': 2171771}, {'Name': 'Uzbekistan', 'Number': 9, 'Total area (ha)': 0.1, 'Total value (eur)': 894000}, {'Name': 'Belarus', 'Number': 5, 'Total area (ha)': 0.0, 'Total value (eur)': 113900}, {'Name': 'Russian Federation', 'Number': 151, 'Total area (ha)': 5.0, 'Total value (eur)': 9514743}, {'Name': 'Other residents', 'Number': 46, 'Total area (ha)': 27.0, 'Total value (eur)': 3510666}, {'Name': 'TOTAL', 'Number': 27428, 'Total area (ha)': 13112.0, 'Total value (eur)': 1737479312}], '2015': [{'Name': 'United States of America', 'Number': 33, 'Total area (ha)': 9.0, 'Total value (eur)': 3035198}, {'Name': 'Estonia', 'Number': 30529, 'Total area (ha)': 11799.0, 'Total value (eur)': 2205141588}, {'Name': 'Lithuania', 'Number': 7, 'Total area (ha)': 1.0, 'Total value (eur)': 2006}, {'Name': 'Monaco', 'Number': 8, 'Total area (ha)': 0.0, 'Total value (eur)': 845500}, {'Name': 'Norway', 'Number': 11, 'Total area (ha)': 0.2, 'Total value (eur)': 710654}, {'Name': 'Portugal', 'Number': 6, 'Total area (ha)': 0.0, 'Total value (eur)': 198500}, {'Name': 'France', 'Number': 5, 'Total area (ha)': 0.0, 'Total value (eur)': 330500}, {'Name': 'Sweden', 'Number': 31, 'Total area (ha)': 14.0, 'Total value (eur)': 1849330}, {'Name': 'Germany', 'Number': 20, 'Total area (ha)': 9.0, 'Total value (eur)': 5325150}, {'Name': 'Finland', 'Number': 235, 'Total area (ha)': 32.0, 'Total value (eur)': 12359077}, {'Name': 'United Kingdom', 'Number': 33, 'Total area (ha)': 2.0, 'Total value (eur)': 1484111}, {'Name': 'Switzerland', 'Number': 11, 'Total area (ha)': 0.0, 'Total value (eur)': 728328}, {'Name': 'Ukraine', 'Number': 10, 'Total area (ha)': 0.0, 'Total value (eur)': 727420}, {'Name': 'Belarus', 'Number': 13, 'Total area (ha)': 0.30000000000000004, 'Total value (eur)': 450700}, {'Name': 'Russian Federation', 'Number': 112, 'Total area (ha)': 2.0, 'Total value (eur)': 6724863}, {'Name': 'Other residents', 'Number': 43, 'Total area (ha)': 3.0, 'Total value (eur)': 3160501}, {'Name': 'TOTAL', 'Number': 31107, 'Total area (ha)': 11873.0, 'Total value (eur)': 2243073426}], '2016': [{'Name': 'United States of America', 'Number': 15, 'Total area (ha)': 1.0, 'Total value (eur)': 1737041}, {'Name': 'Australia', 'Number': 8, 'Total area (ha)': 0.0, 'Total value (eur)': 816180}, {'Name': 'Belgium', 'Number': 6, 'Total area (ha)': 0.1, 'Total value (eur)': 377000}, {'Name': 'Brazil', 'Number': 5, 'Total area (ha)': 0.0, 'Total value (eur)': 374900}, {'Name': 'Virgin Islands (British)', 'Number': 13, 'Total area (ha)': 7.0, 'Total value (eur)': 1027000}, {'Name': 'Estonia', 'Number': 30985, 'Total area (ha)': 13221.0, 'Total value (eur)': 2095054833}, {'Name': 'China', 'Number': 9, 'Total area (ha)': 0.1, 'Total value (eur)': 354000}, {'Name': 'Italy', 'Number': 8, 'Total area (ha)': 0.0, 'Total value (eur)': 473630}, {'Name': 'Latvia', 'Number': 11, 'Total area (ha)': 0.1, 'Total value (eur)': 968608}, {'Name': 'Norway', 'Number': 8, 'Total area (ha)': 0.5, 'Total value (eur)': 455550}, {'Name': 'France', 'Number': 9, 'Total area (ha)': 0.1, 'Total value (eur)': 959498}, {'Name': 'Sweden', 'Number': 30, 'Total area (ha)': 4.0, 'Total value (eur)': 1812091}, {'Name': 'Germany', 'Number': 30, 'Total area (ha)': 2.0, 'Total value (eur)': 1258978}, {'Name': 'Finland', 'Number': 224, 'Total area (ha)': 52.0, 'Total value (eur)': 14787088}, {'Name': 'United Kingdom', 'Number': 26, 'Total area (ha)': 6.0, 'Total value (eur)': 1851903}, {'Name': 'Switzerland', 'Number': 15, 'Total area (ha)': 0.5, 'Total value (eur)': 757088}, {'Name': 'Turkey', 'Number': 6, 'Total area (ha)': 9.0, 'Total value (eur)': 298700}, {'Name': 'Ukraine', 'Number': 11, 'Total area (ha)': 0.5, 'Total value (eur)': 265280}, {'Name': 'Belarus', 'Number': 5, 'Total area (ha)': 0.0, 'Total value (eur)': 399155}, {'Name': 'Russian Federation', 'Number': 101, 'Total area (ha)': 2.0, 'Total value (eur)': 8766531}, {'Name': 'Other residents', 'Number': 43, 'Total area (ha)': 9.0, 'Total value (eur)': 5441777}, {'Name': 'TOTAL', 'Number': 31568, 'Total area (ha)': 13314.0, 'Total value (eur)': 2138236831}], '2017': [{'Name': 'United States of America', 'Number': 28, 'Total area (ha)': 0.2, 'Total value (eur)': 2141066}, {'Name': 'Australia', 'Number': 9, 'Total area (ha)': 4.0, 'Total value (eur)': 591506}, {'Name': 'Estonia', 'Number': 34360, 'Total area (ha)': 11416.0, 'Total value (eur)': 2385070103}, {'Name': 'Israel', 'Number': 5, 'Total area (ha)': 0.0, 'Total value (eur)': 177500}, {'Name': 'Canada', 'Number': 12, 'Total area (ha)': 0.1, 'Total value (eur)': 791000}, {'Name': 'Latvia', 'Number': 12, 'Total area (ha)': 0.2, 'Total value (eur)': 734100}, {'Name': 'Norway', 'Number': 9, 'Total area (ha)': 0.1, 'Total value (eur)': 287400}, {'Name': 'Sweden', 'Number': 43, 'Total area (ha)': 19.0, 'Total value (eur)': 2466438}, {'Name': 'Germany', 'Number': 25, 'Total area (ha)': 0.9, 'Total value (eur)': 1297995}, {'Name': 'Finland', 'Number': 317, 'Total area (ha)': 11.0, 'Total value (eur)': 18128407}, {'Name': 'United Kingdom', 'Number': 30, 'Total area (ha)': 0.7000000000000001, 'Total value (eur)': 2010892}, {'Name': 'Switzerland', 'Number': 10, 'Total area (ha)': 0.0, 'Total value (eur)': 839500}, {'Name': 'Ukraine', 'Number': 10, 'Total area (ha)': 0.1, 'Total value (eur)': 276844}, {'Name': 'Belarus', 'Number': 6, 'Total area (ha)': 0.1, 'Total value (eur)': 283325}, {'Name': 'Russian Federation', 'Number': 99, 'Total area (ha)': 3.0, 'Total value (eur)': 7665204}, {'Name': 'Other residents', 'Number': 53, 'Total area (ha)': 31.0, 'Total value (eur)': 4799510}, {'Name': 'TOTAL', 'Number': 35028, 'Total area (ha)': 11486.0, 'Total value (eur)': 2427560791}], '2018': [{'Name': 'United States of America', 'Number': 16, 'Total area (ha)': 1.0, 'Total value (eur)': 8741074}, {'Name': 'Belgium', 'Number': 12, 'Total area (ha)': 0.2, 'Total value (eur)': 929000}, {'Name': 'Estonia', 'Number': 32778, 'Total area (ha)': 10140.0, 'Total value (eur)': 2587565094}, {'Name': 'Ireland', 'Number': 7, 'Total area (ha)': 4.0, 'Total value (eur)': 260000}, {'Name': 'Luxembourg', 'Number': 10, 'Total area (ha)': 0.0, 'Total value (eur)': 451800}, {'Name': 'Latvia', 'Number': 18, 'Total area (ha)': 0.9, 'Total value (eur)': 900209}, {'Name': 'Netherlands', 'Number': 12, 'Total area (ha)': 0.2, 'Total value (eur)': 1157221}, {'Name': 'Monaco', 'Number': 5, 'Total area (ha)': 3.0, 'Total value (eur)': 2181500}, {'Name': 'Norway', 'Number': 6, 'Total area (ha)': 0.1, 'Total value (eur)': 610500}, {'Name': 'France', 'Number': 6, 'Total area (ha)': 0.0, 'Total value (eur)': 844500}, {'Name': 'Sweden', 'Number': 30, 'Total area (ha)': 2.0, 'Total value (eur)': 1355233}, {'Name': 'Germany', 'Number': 22, 'Total area (ha)': 2.0, 'Total value (eur)': 1506500}, {'Name': 'Finland', 'Number': 211, 'Total area (ha)': 6.0, 'Total value (eur)': 14497835}, {'Name': 'United Kingdom', 'Number': 35, 'Total area (ha)': 0.4, 'Total value (eur)': 2799646}, {'Name': 'Switzerland', 'Number': 15, 'Total area (ha)': 0.4, 'Total value (eur)': 1065000}, {'Name': 'Ukraine', 'Number': 11, 'Total area (ha)': 0.1, 'Total value (eur)': 609150}, {'Name': 'Belarus', 'Number': 5, 'Total area (ha)': 0.5, 'Total value (eur)': 103500}, {'Name': 'Russian Federation', 'Number': 123, 'Total area (ha)': 2.0, 'Total value (eur)': 7052651}, {'Name': 'Other residents', 'Number': 54, 'Total area (ha)': 12.0, 'Total value (eur)': 5145134}, {'Name': 'TOTAL', 'Number': 33376, 'Total area (ha)': 10175.0, 'Total value (eur)': 2637775547}], '2019': [{'Name': 'United States of America', 'Number': 14, 'Total area (ha)': 0.4, 'Total value (eur)': 1255400}, {'Name': 'Belgium', 'Number': 10, 'Total area (ha)': 2.0, 'Total value (eur)': 883616}, {'Name': 'Estonia', 'Number': 32261, 'Total area (ha)': 11577.0, 'Total value (eur)': 2656654429}, {'Name': 'China', 'Number': 6, 'Total area (ha)': 2.0, 'Total value (eur)': 249900}, {'Name': 'Italy', 'Number': 9, 'Total area (ha)': 0.1, 'Total value (eur)': 745800}, {'Name': 'Canada', 'Number': 13, 'Total area (ha)': 15.0, 'Total value (eur)': 532770}, {'Name': 'Luxembourg', 'Number': 7, 'Total area (ha)': 0.0, 'Total value (eur)': 271900}, {'Name': 'Latvia', 'Number': 12, 'Total area (ha)': 2.0, 'Total value (eur)': 654400}, {'Name': 'Netherlands', 'Number': 11, 'Total area (ha)': 0.4, 'Total value (eur)': 1074567}, {'Name': 'Norway', 'Number': 8, 'Total area (ha)': 7.0, 'Total value (eur)': 746500}, {'Name': 'France', 'Number': 13, 'Total area (ha)': 6.0, 'Total value (eur)': 35775403}, {'Name': 'Sweden', 'Number': 41, 'Total area (ha)': 14.0, 'Total value (eur)': 1865447}, {'Name': 'Germany', 'Number': 31, 'Total area (ha)': 43.0, 'Total value (eur)': 2295589}, {'Name': 'Finland', 'Number': 242, 'Total area (ha)': 55.0, 'Total value (eur)': 15178688}, {'Name': 'United Kingdom', 'Number': 56, 'Total area (ha)': 5.0, 'Total value (eur)': 3570666}, {'Name': 'Switzerland', 'Number': 6, 'Total area (ha)': 5.0, 'Total value (eur)': 480018}, {'Name': 'Turkey', 'Number': 10, 'Total area (ha)': 0.1, 'Total value (eur)': 915150}, {'Name': 'Ukraine', 'Number': 20, 'Total area (ha)': 0.7000000000000001, 'Total value (eur)': 1613900}, {'Name': 'Russian Federation', 'Number': 113, 'Total area (ha)': 1.0, 'Total value (eur)': 7169140}, {'Name': 'Other residents', 'Number': 38, 'Total area (ha)': 13.0, 'Total value (eur)': 3556595}, {'Name': 'TOTAL', 'Number': 32921, 'Total area (ha)': 11750.0, 'Total value (eur)': 2735489879}], '2020': [{'Name': 'United States of America', 'Number': 22, 'Total area (ha)': 6.0, 'Total value (eur)': 2053737}, {'Name': 'Estonia', 'Number': 29634, 'Total area (ha)': 11442.0, 'Total value (eur)': 2511948758}, {'Name': 'Israel', 'Number': 8, 'Total area (ha)': 2.0, 'Total value (eur)': 1787900}, {'Name': 'Italy', 'Number': 7, 'Total area (ha)': 0.2, 'Total value (eur)': 412750}, {'Name': 'Cyprus', 'Number': 10, 'Total area (ha)': 6.0, 'Total value (eur)': 1109000}, {'Name': 'Lithuania', 'Number': 5, 'Total area (ha)': 0.5, 'Total value (eur)': 497000}, {'Name': 'Luxembourg', 'Number': 5, 'Total area (ha)': 0.1, 'Total value (eur)': 1033346}, {'Name': 'Latvia', 'Number': 12, 'Total area (ha)': 0.6000000000000001, 'Total value (eur)': 1006678}, {'Name': 'Monaco', 'Number': 7, 'Total area (ha)': 3.0, 'Total value (eur)': 585000}, {'Name': 'Nigeria', 'Number': 6, 'Total area (ha)': 0.0, 'Total value (eur)': 147000}, {'Name': 'Norway', 'Number': 9, 'Total area (ha)': 2.0, 'Total value (eur)': 792500}, {'Name': 'France', 'Number': 13, 'Total area (ha)': 0.30000000000000004, 'Total value (eur)': 1165500}, {'Name': 'Sweden', 'Number': 20, 'Total area (ha)': 12.0, 'Total value (eur)': 1574257}, {'Name': 'Germany', 'Number': 47, 'Total area (ha)': 8.0, 'Total value (eur)': 3575116}, {'Name': 'Finland', 'Number': 180, 'Total area (ha)': 14.0, 'Total value (eur)': 15873316}, {'Name': 'United Kingdom', 'Number': 31, 'Total area (ha)': 0.7000000000000001, 'Total value (eur)': 3951062}, {'Name': 'Switzerland', 'Number': 8, 'Total area (ha)': 0.6000000000000001, 'Total value (eur)': 664000}, {'Name': 'Ukraine', 'Number': 19, 'Total area (ha)': 0.5, 'Total value (eur)': 890408}, {'Name': 'Belarus', 'Number': 5, 'Total area (ha)': 0.1, 'Total value (eur)': 390500}, {'Name': 'Russian Federation', 'Number': 67, 'Total area (ha)': 2.0, 'Total value (eur)': 5320624}, {'Name': 'Other residents', 'Number': 39, 'Total area (ha)': 2.0, 'Total value (eur)': 4066576}, {'Name': 'TOTAL', 'Number': 30154, 'Total area (ha)': 11504.0, 'Total value (eur)': 2558845029}], '2021': [{'Name': 'United States of America', 'Number': 25, 'Total area (ha)': 3.0, 'Total value (eur)': 3733500}, {'Name': 'United Arab Emirates', 'Number': 5, 'Total area (ha)': 0.2, 'Total value (eur)': 1003350}, {'Name': 'Austria', 'Number': 5, 'Total area (ha)': 0.0, 'Total value (eur)': 766500}, {'Name': 'Belgium', 'Number': 7, 'Total area (ha)': 0.8, 'Total value (eur)': 854600}, {'Name': 'Estonia', 'Number': 36703, 'Total area (ha)': 16506.0, 'Total value (eur)': 3883557501}, {'Name': 'China', 'Number': 5, 'Total area (ha)': 0.0, 'Total value (eur)': 532098}, {'Name': 'Israel', 'Number': 11, 'Total area (ha)': 0.1, 'Total value (eur)': 769360}, {'Name': 'Italy', 'Number': 11, 'Total area (ha)': 0.1, 'Total value (eur)': 720250}, {'Name': 'Lithuania', 'Number': 5, 'Total area (ha)': 0.1, 'Total value (eur)': 246084}, {'Name': 'Latvia', 'Number': 7, 'Total area (ha)': 0.6000000000000001, 'Total value (eur)': 1112500}, {'Name': 'Monaco', 'Number': 9, 'Total area (ha)': 3.0, 'Total value (eur)': 767000}, {'Name': 'Norway', 'Number': 6, 'Total area (ha)': 0.30000000000000004, 'Total value (eur)': 351000}, {'Name': 'France', 'Number': 7, 'Total area (ha)': 0.2, 'Total value (eur)': 1810300}, {'Name': 'Sweden', 'Number': 26, 'Total area (ha)': 1.0, 'Total value (eur)': 4147446}, {'Name': 'Germany', 'Number': 52, 'Total area (ha)': 10.0, 'Total value (eur)': 4529547}, {'Name': 'Finland', 'Number': 177, 'Total area (ha)': 31.0, 'Total value (eur)': 12371313}, {'Name': 'United Kingdom', 'Number': 40, 'Total area (ha)': 0.7000000000000001, 'Total value (eur)': 3093863}, {'Name': 'Switzerland', 'Number': 5, 'Total area (ha)': 0.0, 'Total value (eur)': 904570}, {'Name': 'Denmark', 'Number': 7, 'Total area (ha)': 5.0, 'Total value (eur)': 570000}, {'Name': 'Ukraine', 'Number': 13, 'Total area (ha)': 0.1, 'Total value (eur)': 697550}, {'Name': 'Russian Federation', 'Number': 65, 'Total area (ha)': 1.0, 'Total value (eur)': 4531415}, {'Name': 'Other residents', 'Number': 64, 'Total area (ha)': 15.0, 'Total value (eur)': 9069020}, {'Name': 'TOTAL', 'Number': 37255, 'Total area (ha)': 16577.0, 'Total value (eur)': 3936138768}], '2022': [{'Name': 'United States of America', 'Number': 17, 'Total area (ha)': 0.30000000000000004, 'Total value (eur)': 1780446}, {'Name': 'Belgium', 'Number': 8, 'Total area (ha)': 0.0, 'Total value (eur)': 497000}, {'Name': 'Estonia', 'Number': 29688, 'Total area (ha)': 10134.0, 'Total value (eur)': 3633429169}, {'Name': 'Spain', 'Number': 8, 'Total area (ha)': 0.1, 'Total value (eur)': 454948}, {'Name': 'Ireland', 'Number': 10, 'Total area (ha)': 0.0, 'Total value (eur)': 426001}, {'Name': 'Israel', 'Number': 11, 'Total area (ha)': 0.1, 'Total value (eur)': 1766756}, {'Name': 'India', 'Number': 8, 'Total area (ha)': 0.1, 'Total value (eur)': 572600}, {'Name': 'Italy', 'Number': 10, 'Total area (ha)': 0.1, 'Total value (eur)': 1209000}, {'Name': 'Canada', 'Number': 10, 'Total area (ha)': 0.1, 'Total value (eur)': 1088493}, {'Name': 'Latvia', 'Number': 11, 'Total area (ha)': 0.2, 'Total value (eur)': 971740}, {'Name': 'Netherlands', 'Number': 19, 'Total area (ha)': 2.0, 'Total value (eur)': 3425312}, {'Name': 'Monaco', 'Number': 11, 'Total area (ha)': 28.0, 'Total value (eur)': 6556600}, {'Name': 'Nigeria', 'Number': 5, 'Total area (ha)': 0.0, 'Total value (eur)': 445000}, {'Name': 'Poland', 'Number': 9, 'Total area (ha)': 0.2, 'Total value (eur)': 1090000}, {'Name': 'Sweden', 'Number': 20, 'Total area (ha)': 12.0, 'Total value (eur)': 2438555}, {'Name': 'Germany', 'Number': 42, 'Total area (ha)': 3.0, 'Total value (eur)': 4510262}, {'Name': 'Finland', 'Number': 100, 'Total area (ha)': 47.0, 'Total value (eur)': 11714090}, {'Name': 'United Kingdom', 'Number': 38, 'Total area (ha)': 0.30000000000000004, 'Total value (eur)': 5382332}, {'Name': 'Switzerland', 'Number': 10, 'Total area (ha)': 0.1, 'Total value (eur)': 1400500}, {'Name': 'Denmark', 'Number': 9, 'Total area (ha)': 0.5, 'Total value (eur)': 1304050}, {'Name': 'Turkey', 'Number': 5, 'Total area (ha)': 0.2, 'Total value (eur)': 319950}, {'Name': 'Ukraine', 'Number': 19, 'Total area (ha)': 0.2, 'Total value (eur)': 1524483}, {'Name': 'Russian Federation', 'Number': 48, 'Total area (ha)': 0.4, 'Total value (eur)': 3891381}, {'Name': 'Other residents', 'Number': 61, 'Total area (ha)': 10.0, 'Total value (eur)': 8833226}, {'Name': 'TOTAL', 'Number': 30177, 'Total area (ha)': 10240.0, 'Total value (eur)': 3695031894}], '2023': [{'Name': 'United States of America', 'Number': 28, 'Total area (ha)': 3.0, 'Total value (eur)': 10851686}, {'Name': 'United Arab Emirates', 'Number': 14, 'Total area (ha)': 0.0, 'Total value (eur)': 2527215}, {'Name': 'Australia', 'Number': 5, 'Total area (ha)': 0.1, 'Total value (eur)': 407000}, {'Name': 'Belgium', 'Number': 6, 'Total area (ha)': 0.0, 'Total value (eur)': 1109400}, {'Name': 'Estonia', 'Number': 25279, 'Total area (ha)': 7033.0, 'Total value (eur)': 3088110911}, {'Name': 'Spain', 'Number': 5, 'Total area (ha)': 0.4, 'Total value (eur)': 860996}, {'Name': 'Ireland', 'Number': 7, 'Total area (ha)': 0.30000000000000004, 'Total value (eur)': 301750}, {'Name': 'India', 'Number': 5, 'Total area (ha)': 0.0, 'Total value (eur)': 302250}, {'Name': 'Italy', 'Number': 5, 'Total area (ha)': 4.0, 'Total value (eur)': 336500}, {'Name': 'Cyprus', 'Number': 10, 'Total area (ha)': 0.1, 'Total value (eur)': 868600}, {'Name': 'Lithuania', 'Number': 7, 'Total area (ha)': 0.0, 'Total value (eur)': 904490}, {'Name': 'Latvia', 'Number': 9, 'Total area (ha)': 0.30000000000000004, 'Total value (eur)': 852414}, {'Name': 'Netherlands', 'Number': 5, 'Total area (ha)': 0.0, 'Total value (eur)': 692600}, {'Name': 'Norway', 'Number': 8, 'Total area (ha)': 0.0, 'Total value (eur)': 878778}, {'Name': 'Poland', 'Number': 6, 'Total area (ha)': 0.0, 'Total value (eur)': 1101880}, {'Name': 'France', 'Number': 13, 'Total area (ha)': 0.2, 'Total value (eur)': 2136550}, {'Name': 'Sweden', 'Number': 13, 'Total area (ha)': 3.0, 'Total value (eur)': 1502072}, {'Name': 'Germany', 'Number': 40, 'Total area (ha)': 11.0, 'Total value (eur)': 4390316}, {'Name': 'Finland', 'Number': 81, 'Total area (ha)': 47.0, 'Total value (eur)': 9362561}, {'Name': 'United Kingdom', 'Number': 37, 'Total area (ha)': 1.0, 'Total value (eur)': 5268277}, {'Name': 'Switzerland', 'Number': 8, 'Total area (ha)': 3.0, 'Total value (eur)': 1560570}, {'Name': 'Turkey', 'Number': 9, 'Total area (ha)': 0.30000000000000004, 'Total value (eur)': 805000}, {'Name': 'Ukraine', 'Number': 23, 'Total area (ha)': 0.4, 'Total value (eur)': 1734492}, {'Name': 'Russian Federation', 'Number': 23, 'Total area (ha)': 1.0, 'Total value (eur)': 2910769}, {'Name': 'Other residents', 'Number': 60, 'Total area (ha)': 18.0, 'Total value (eur)': 6209449}, {'Name': 'TOTAL', 'Number': 25706, 'Total area (ha)': 7125.0, 'Total value (eur)': 3145986527}], '2024': [{'Name': 'United States of America', 'Number': 25, 'Total area (ha)': 0.30000000000000004, 'Total value (eur)': 3898275}, {'Name': 'Estonia', 'Number': 26044, 'Total area (ha)': 8334.0, 'Total value (eur)': 3574011769}, {'Name': 'Spain', 'Number': 11, 'Total area (ha)': 0.2, 'Total value (eur)': 968207}, {'Name': 'Israel', 'Number': 8, 'Total area (ha)': 0.0, 'Total value (eur)': 624200}, {'Name': 'Italy', 'Number': 9, 'Total area (ha)': 0.0, 'Total value (eur)': 1455841}, {'Name': 'Luxembourg', 'Number': 7, 'Total area (ha)': 0.30000000000000004, 'Total value (eur)': 1063761}, {'Name': 'Latvia', 'Number': 6, 'Total area (ha)': 0.0, 'Total value (eur)': 412000}, {'Name': 'Netherlands', 'Number': 14, 'Total area (ha)': 0.1, 'Total value (eur)': 1798224}, {'Name': 'Norway', 'Number': 8, 'Total area (ha)': 4.0, 'Total value (eur)': 1235480}, {'Name': 'France', 'Number': 5, 'Total area (ha)': 0.6000000000000001, 'Total value (eur)': 11945000}, {'Name': 'Sweden', 'Number': 9, 'Total area (ha)': 0.2, 'Total value (eur)': 1104700}, {'Name': 'Romania', 'Number': 12, 'Total area (ha)': 0.4, 'Total value (eur)': 809000}, {'Name': 'Germany', 'Number': 33, 'Total area (ha)': 2.0, 'Total value (eur)': 3313273}, {'Name': 'Finland', 'Number': 84, 'Total area (ha)': 31.0, 'Total value (eur)': 7838268}, {'Name': 'United Kingdom', 'Number': 25, 'Total area (ha)': 2.0, 'Total value (eur)': 1741735}, {'Name': 'Switzerland', 'Number': 5, 'Total area (ha)': 0.8, 'Total value (eur)': 624200}, {'Name': 'Turkey', 'Number': 8, 'Total area (ha)': 0.0, 'Total value (eur)': 752750}, {'Name': 'Ukraine', 'Number': 27, 'Total area (ha)': 0.5, 'Total value (eur)': 1961600}, {'Name': 'Belarus', 'Number': 6, 'Total area (ha)': 0.6000000000000001, 'Total value (eur)': 389950}, {'Name': 'Russian Federation', 'Number': 37, 'Total area (ha)': 4.0, 'Total value (eur)': 2784600}, {'Name': 'Other residents', 'Number': 56, 'Total area (ha)': 2.0, 'Total value (eur)': 7914640}, {'Name': 'TOTAL', 'Number': 26439, 'Total area (ha)': 8384.0, 'Total value (eur)': 3626647472}]}"
        ],
        [
         "1",
         "0039",
         "{'2010': [{'Name': 'Estonia', 'Number': 480, 'Total area (ha)': 1993, 'Total value (eur)': 6835883}, {'Name': 'Sweden', 'Number': 9, 'Total area (ha)': 77, 'Total value (eur)': 213877}, {'Name': 'Other residents', 'Number': 6, 'Total area (ha)': 91, 'Total value (eur)': 182418}, {'Name': 'TOTAL', 'Number': 495, 'Total area (ha)': 2161, 'Total value (eur)': 7232178}], '2011': [{'Name': 'Estonia', 'Number': 562, 'Total area (ha)': 3007, 'Total value (eur)': 9261198}, {'Name': 'Finland', 'Number': 7, 'Total area (ha)': 5, 'Total value (eur)': 179000}, {'Name': 'Other residents', 'Number': 11, 'Total area (ha)': 54, 'Total value (eur)': 162556}, {'Name': 'TOTAL', 'Number': 580, 'Total area (ha)': 3066, 'Total value (eur)': 9602754}], '2012': [{'Name': 'Estonia', 'Number': 746, 'Total area (ha)': 3369, 'Total value (eur)': 10707870}, {'Name': 'Palestine, State of', 'Number': 6, 'Total area (ha)': 8, 'Total value (eur)': 19845}, {'Name': 'Sweden', 'Number': 5, 'Total area (ha)': 6, 'Total value (eur)': 74247}, {'Name': 'Finland', 'Number': 10, 'Total area (ha)': 18, 'Total value (eur)': 430500}, {'Name': 'Other residents', 'Number': 5, 'Total area (ha)': 17, 'Total value (eur)': 242815}, {'Name': 'TOTAL', 'Number': 772, 'Total area (ha)': 3418, 'Total value (eur)': 11475277}], '2013': [{'Name': 'Estonia', 'Number': 906, 'Total area (ha)': 4266, 'Total value (eur)': 12650507}, {'Name': 'Canada', 'Number': 5, 'Total area (ha)': 30, 'Total value (eur)': 34120}, {'Name': 'Finland', 'Number': 7, 'Total area (ha)': 14, 'Total value (eur)': 91594}, {'Name': 'Other residents', 'Number': 8, 'Total area (ha)': 80, 'Total value (eur)': 155077}, {'Name': 'TOTAL', 'Number': 926, 'Total area (ha)': 4389, 'Total value (eur)': 12931298}], '2014': [{'Name': 'Estonia', 'Number': 852, 'Total area (ha)': 3366, 'Total value (eur)': 13938837}, {'Name': 'Sweden', 'Number': 6, 'Total area (ha)': 16, 'Total value (eur)': 35991}, {'Name': 'Finland', 'Number': 12, 'Total area (ha)': 14, 'Total value (eur)': 88578}, {'Name': 'Russian Federation', 'Number': 5, 'Total area (ha)': '***', 'Total value (eur)': '***'}, {'Name': 'Other residents', 'Number': 4, 'Total area (ha)': '***', 'Total value (eur)': '***'}, {'Name': 'TOTAL', 'Number': 879, 'Total area (ha)': 3406, 'Total value (eur)': 14181991}], '2015': [{'Name': 'Estonia', 'Number': 556, 'Total area (ha)': 2679, 'Total value (eur)': 20775927}, {'Name': 'Italy', 'Number': 10, 'Total area (ha)': 12, 'Total value (eur)': 54368}, {'Name': 'Sweden', 'Number': 7, 'Total area (ha)': 32, 'Total value (eur)': 155953}, {'Name': 'Other residents', 'Number': 13, 'Total area (ha)': 54, 'Total value (eur)': 371846}, {'Name': 'TOTAL', 'Number': 586, 'Total area (ha)': 2777, 'Total value (eur)': 21358094}], '2016': [{'Name': 'Estonia', 'Number': 545, 'Total area (ha)': 2391, 'Total value (eur)': 13450147}, {'Name': 'Other residents', 'Number': 14, 'Total area (ha)': 21, 'Total value (eur)': 377859}, {'Name': 'TOTAL', 'Number': 559, 'Total area (ha)': 2413, 'Total value (eur)': 13828006}], '2017': [{'Name': 'Estonia', 'Number': 565, 'Total area (ha)': 1799, 'Total value (eur)': 9526654}, {'Name': 'Italy', 'Number': 6, 'Total area (ha)': 10, 'Total value (eur)': 22298}, {'Name': 'Finland', 'Number': 10, 'Total area (ha)': 8, 'Total value (eur)': 86300}, {'Name': 'Other residents', 'Number': 7, 'Total area (ha)': 13, 'Total value (eur)': 334400}, {'Name': 'TOTAL', 'Number': 588, 'Total area (ha)': 1831, 'Total value (eur)': 9969652}], '2018': [{'Name': 'Estonia', 'Number': 610, 'Total area (ha)': 2170, 'Total value (eur)': 13397465}, {'Name': 'Italy', 'Number': 10, 'Total area (ha)': 9, 'Total value (eur)': 72059}, {'Name': 'Sweden', 'Number': 7, 'Total area (ha)': 5, 'Total value (eur)': 157673}, {'Name': 'Finland', 'Number': 14, 'Total area (ha)': 23, 'Total value (eur)': 94500}, {'Name': 'Russian Federation', 'Number': 14, 'Total area (ha)': 3, 'Total value (eur)': 11997}, {'Name': 'Other residents', 'Number': 9, 'Total area (ha)': 10, 'Total value (eur)': 148500}, {'Name': 'TOTAL', 'Number': 664, 'Total area (ha)': 2220, 'Total value (eur)': 13882194}], '2019': [{'Name': 'Estonia', 'Number': 664, 'Total area (ha)': 2150, 'Total value (eur)': 13207799}, {'Name': 'Other residents', 'Number': 10, 'Total area (ha)': 11, 'Total value (eur)': 85396}, {'Name': 'TOTAL', 'Number': 674, 'Total area (ha)': 2161, 'Total value (eur)': 13293195}], '2020': [{'Name': 'Estonia', 'Number': 902, 'Total area (ha)': 4850, 'Total value (eur)': 21630391}, {'Name': 'Finland', 'Number': 6, 'Total area (ha)': 6, 'Total value (eur)': 205700}, {'Name': 'Other residents', 'Number': 9, 'Total area (ha)': 8, 'Total value (eur)': 163257}, {'Name': 'TOTAL', 'Number': 917, 'Total area (ha)': 4864, 'Total value (eur)': 21999348}], '2021': [{'Name': 'Estonia', 'Number': 774, 'Total area (ha)': 2524, 'Total value (eur)': 22705706}, {'Name': 'Finland', 'Number': 7, 'Total area (ha)': 4, 'Total value (eur)': 17500}, {'Name': 'Other residents', 'Number': 10, 'Total area (ha)': 13, 'Total value (eur)': 190170}, {'Name': 'TOTAL', 'Number': 791, 'Total area (ha)': 2541, 'Total value (eur)': 22913376}], '2022': [{'Name': 'Estonia', 'Number': 836, 'Total area (ha)': 3575, 'Total value (eur)': 29321918}, {'Name': 'Finland', 'Number': 7, 'Total area (ha)': 7, 'Total value (eur)': 146350}, {'Name': 'Other residents', 'Number': 9, 'Total area (ha)': 29, 'Total value (eur)': 2882309}, {'Name': 'TOTAL', 'Number': 852, 'Total area (ha)': 3611, 'Total value (eur)': 32350577}], '2023': [{'Name': 'Estonia', 'Number': 577, 'Total area (ha)': 1881, 'Total value (eur)': 19817295}, {'Name': 'Finland', 'Number': 12, 'Total area (ha)': 4, 'Total value (eur)': 78000}, {'Name': 'Other residents', 'Number': 9, 'Total area (ha)': 46, 'Total value (eur)': 221109}, {'Name': 'TOTAL', 'Number': 598, 'Total area (ha)': 1931, 'Total value (eur)': 20116404}], '2024': [{'Name': 'Estonia', 'Number': 528, 'Total area (ha)': 1200, 'Total value (eur)': 18068349}, {'Name': 'Sweden', 'Number': 5, 'Total area (ha)': 13, 'Total value (eur)': 46990}, {'Name': 'Finland', 'Number': 5, 'Total area (ha)': 21, 'Total value (eur)': 166500}, {'Name': 'Other residents', 'Number': 8, 'Total area (ha)': 19, 'Total value (eur)': 435302}, {'Name': 'TOTAL', 'Number': 546, 'Total area (ha)': 1253, 'Total value (eur)': 18717141}]}"
        ],
        [
         "2",
         "0045",
         "{'2010': [{'Name': 'Estonia', 'Number': 4741, 'Total area (ha)': 5944.0, 'Total value (eur)': 57656119}, {'Name': 'Georgia', 'Number': 7, 'Total area (ha)': 0.0, 'Total value (eur)': 4845}, {'Name': 'Spain', 'Number': 10, 'Total area (ha)': 0.0, 'Total value (eur)': 9906}, {'Name': 'Germany', 'Number': 12, 'Total area (ha)': 6.0, 'Total value (eur)': 120001}, {'Name': 'Finland', 'Number': 20, 'Total area (ha)': 15.0, 'Total value (eur)': 165598}, {'Name': 'Ukraine', 'Number': 6, 'Total area (ha)': 0.2, 'Total value (eur)': 51449}, {'Name': 'Belarus', 'Number': 5, 'Total area (ha)': 0.0, 'Total value (eur)': 31956}, {'Name': 'Russian Federation', 'Number': 301, 'Total area (ha)': 6.0, 'Total value (eur)': 3298230}, {'Name': 'Other residents', 'Number': 29, 'Total area (ha)': 0.6000000000000001, 'Total value (eur)': 477251}, {'Name': 'TOTAL', 'Number': 5131, 'Total area (ha)': 5972.0, 'Total value (eur)': 61815354}], '2011': [{'Name': 'Estonia', 'Number': 4465, 'Total area (ha)': 5436.0, 'Total value (eur)': 55670117}, {'Name': 'Israel', 'Number': 6, 'Total area (ha)': 0.0, 'Total value (eur)': 23700}, {'Name': 'Germany', 'Number': 8, 'Total area (ha)': 0.2, 'Total value (eur)': 84002}, {'Name': 'Finland', 'Number': 27, 'Total area (ha)': 30.0, 'Total value (eur)': 191506}, {'Name': 'United Kingdom', 'Number': 8, 'Total area (ha)': 0.6000000000000001, 'Total value (eur)': 167620}, {'Name': 'Ukraine', 'Number': 9, 'Total area (ha)': 0.0, 'Total value (eur)': 63700}, {'Name': 'Belarus', 'Number': 6, 'Total area (ha)': 0.1, 'Total value (eur)': 48100}, {'Name': 'Russian Federation', 'Number': 453, 'Total area (ha)': 7.0, 'Total value (eur)': 4809593}, {'Name': 'Other residents', 'Number': 33, 'Total area (ha)': 1.0, 'Total value (eur)': 682853}, {'Name': 'TOTAL', 'Number': 5015, 'Total area (ha)': 5476.0, 'Total value (eur)': 61741192}], '2012': [{'Name': 'United States of America', 'Number': 9, 'Total area (ha)': 20.0, 'Total value (eur)': 477152}, {'Name': 'Estonia', 'Number': 4888, 'Total area (ha)': 5019.0, 'Total value (eur)': 79465366}, {'Name': 'France', 'Number': 6, 'Total area (ha)': 1.0, 'Total value (eur)': 44100}, {'Name': 'Germany', 'Number': 23, 'Total area (ha)': 6.0, 'Total value (eur)': 286060}, {'Name': 'Finland', 'Number': 22, 'Total area (ha)': 0.5, 'Total value (eur)': 282601}, {'Name': 'United Kingdom', 'Number': 13, 'Total area (ha)': 0.4, 'Total value (eur)': 101196}, {'Name': 'Ukraine', 'Number': 13, 'Total area (ha)': 0.1, 'Total value (eur)': 67550}, {'Name': 'Russian Federation', 'Number': 624, 'Total area (ha)': 5.0, 'Total value (eur)': 5436486}, {'Name': 'Other residents', 'Number': 25, 'Total area (ha)': 0.8, 'Total value (eur)': 285791}, {'Name': 'TOTAL', 'Number': 5623, 'Total area (ha)': 5053.0, 'Total value (eur)': 86446301}], '2013': [{'Name': 'United States of America', 'Number': 5, 'Total area (ha)': 0.2, 'Total value (eur)': 51430}, {'Name': 'Estonia', 'Number': 5458, 'Total area (ha)': 5420.0, 'Total value (eur)': 73882891}, {'Name': 'Georgia', 'Number': 5, 'Total area (ha)': 0.1, 'Total value (eur)': 8000}, {'Name': 'Sweden', 'Number': 6, 'Total area (ha)': 0.1, 'Total value (eur)': 199400}, {'Name': 'Germany', 'Number': 9, 'Total area (ha)': 0.0, 'Total value (eur)': 109300}, {'Name': 'Finland', 'Number': 33, 'Total area (ha)': 7.0, 'Total value (eur)': 542015}, {'Name': 'United Kingdom', 'Number': 7, 'Total area (ha)': 0.30000000000000004, 'Total value (eur)': 83300}, {'Name': 'Ukraine', 'Number': 9, 'Total area (ha)': 0.5, 'Total value (eur)': 59493}, {'Name': 'Belarus', 'Number': 8, 'Total area (ha)': 0.0, 'Total value (eur)': 33300}, {'Name': 'Russian Federation', 'Number': 753, 'Total area (ha)': 11.0, 'Total value (eur)': 7990861}, {'Name': 'Other residents', 'Number': 27, 'Total area (ha)': 0.7000000000000001, 'Total value (eur)': 251038}, {'Name': 'TOTAL', 'Number': 6320, 'Total area (ha)': 5440.0, 'Total value (eur)': 83211028}], '2014': [{'Name': 'United States of America', 'Number': 5, 'Total area (ha)': 0.2, 'Total value (eur)': 103384}, {'Name': 'Estonia', 'Number': 6038, 'Total area (ha)': 6078.0, 'Total value (eur)': 81242345}, {'Name': 'Moldova, Republic of', 'Number': 11, 'Total area (ha)': 0.2, 'Total value (eur)': 10235}, {'Name': 'France', 'Number': 7, 'Total area (ha)': 0.0, 'Total value (eur)': 1095}, {'Name': 'Sweden', 'Number': 5, 'Total area (ha)': 0.1, 'Total value (eur)': 92340}, {'Name': 'Germany', 'Number': 12, 'Total area (ha)': 0.4, 'Total value (eur)': 116100}, {'Name': 'Finland', 'Number': 31, 'Total area (ha)': 3.0, 'Total value (eur)': 296851}, {'Name': 'United Kingdom', 'Number': 7, 'Total area (ha)': 0.2, 'Total value (eur)': 121100}, {'Name': 'Ukraine', 'Number': 18, 'Total area (ha)': 0.1, 'Total value (eur)': 54326}, {'Name': 'Russian Federation', 'Number': 460, 'Total area (ha)': 6.0, 'Total value (eur)': 4047587}, {'Name': 'Other residents', 'Number': 26, 'Total area (ha)': 0.8, 'Total value (eur)': 201800}, {'Name': 'TOTAL', 'Number': 6620, 'Total area (ha)': 6088.0, 'Total value (eur)': 86287163}], '2015': [{'Name': 'Estonia', 'Number': 5671, 'Total area (ha)': 6120.0, 'Total value (eur)': 94446631}, {'Name': 'Sweden', 'Number': 9, 'Total area (ha)': 0.4, 'Total value (eur)': 58300}, {'Name': 'Germany', 'Number': 8, 'Total area (ha)': 0.2, 'Total value (eur)': 78646}, {'Name': 'Finland', 'Number': 18, 'Total area (ha)': 2.0, 'Total value (eur)': 160859}, {'Name': 'United Kingdom', 'Number': 16, 'Total area (ha)': 0.5, 'Total value (eur)': 272903}, {'Name': 'Ukraine', 'Number': 14, 'Total area (ha)': 0.1, 'Total value (eur)': 42050}, {'Name': 'Russian Federation', 'Number': 184, 'Total area (ha)': 3.0, 'Total value (eur)': 2282458}, {'Name': 'Other residents', 'Number': 23, 'Total area (ha)': 0.9, 'Total value (eur)': 274999}, {'Name': 'TOTAL', 'Number': 5943, 'Total area (ha)': 6128.0, 'Total value (eur)': 97616846}], '2016': [{'Name': 'United States of America', 'Number': 7, 'Total area (ha)': 0.2, 'Total value (eur)': 437920}, {'Name': 'Estonia', 'Number': 5272, 'Total area (ha)': 7057.0, 'Total value (eur)': 88253163}, {'Name': 'Sweden', 'Number': 8, 'Total area (ha)': 0.30000000000000004, 'Total value (eur)': 23875}, {'Name': 'Germany', 'Number': 15, 'Total area (ha)': 0.4, 'Total value (eur)': 172091}, {'Name': 'Finland', 'Number': 20, 'Total area (ha)': 0.5, 'Total value (eur)': 301626}, {'Name': 'United Kingdom', 'Number': 6, 'Total area (ha)': 2.0, 'Total value (eur)': 61000}, {'Name': 'Ukraine', 'Number': 9, 'Total area (ha)': 0.2, 'Total value (eur)': 41800}, {'Name': 'Russian Federation', 'Number': 205, 'Total area (ha)': 4.0, 'Total value (eur)': 1990890}, {'Name': 'Other residents', 'Number': 41, 'Total area (ha)': 0.5, 'Total value (eur)': 468520}, {'Name': 'TOTAL', 'Number': 5583, 'Total area (ha)': 7065.0, 'Total value (eur)': 91750885}], '2017': [{'Name': 'United States of America', 'Number': 7, 'Total area (ha)': 15.0, 'Total value (eur)': 87500}, {'Name': 'Estonia', 'Number': 5943, 'Total area (ha)': 5963.0, 'Total value (eur)': 99845560}, {'Name': 'Latvia', 'Number': 8, 'Total area (ha)': 0.8, 'Total value (eur)': 289000}, {'Name': 'Germany', 'Number': 9, 'Total area (ha)': 0.1, 'Total value (eur)': 170000}, {'Name': 'Finland', 'Number': 37, 'Total area (ha)': 1.0, 'Total value (eur)': 467789}, {'Name': 'United Kingdom', 'Number': 8, 'Total area (ha)': 7.0, 'Total value (eur)': 64800}, {'Name': 'Russian Federation', 'Number': 195, 'Total area (ha)': 3.0, 'Total value (eur)': 1594491}, {'Name': 'Other residents', 'Number': 33, 'Total area (ha)': 4.0, 'Total value (eur)': 20222577}, {'Name': 'TOTAL', 'Number': 6240, 'Total area (ha)': 5993.0, 'Total value (eur)': 122741717}], '2018': [{'Name': 'United States of America', 'Number': 5, 'Total area (ha)': 0.0, 'Total value (eur)': 74000}, {'Name': 'Estonia', 'Number': 5508, 'Total area (ha)': 4877.0, 'Total value (eur)': 82519776}, {'Name': 'Latvia', 'Number': 7, 'Total area (ha)': 0.0, 'Total value (eur)': 13799}, {'Name': 'Germany', 'Number': 9, 'Total area (ha)': 0.0, 'Total value (eur)': 108400}, {'Name': 'Finland', 'Number': 28, 'Total area (ha)': 8.0, 'Total value (eur)': 253513}, {'Name': 'United Kingdom', 'Number': 20, 'Total area (ha)': 1.0, 'Total value (eur)': 463070}, {'Name': 'Ukraine', 'Number': 9, 'Total area (ha)': 0.1, 'Total value (eur)': 37800}, {'Name': 'Belarus', 'Number': 9, 'Total area (ha)': 0.1, 'Total value (eur)': 22250}, {'Name': 'Russian Federation', 'Number': 252, 'Total area (ha)': 2.0, 'Total value (eur)': 1972636}, {'Name': 'Other residents', 'Number': 30, 'Total area (ha)': 6.0, 'Total value (eur)': 384876}, {'Name': 'TOTAL', 'Number': 5877, 'Total area (ha)': 4895.0, 'Total value (eur)': 85850120}], '2019': [{'Name': 'Estonia', 'Number': 5864, 'Total area (ha)': 3975.0, 'Total value (eur)': 71650646}, {'Name': 'Ireland', 'Number': 5, 'Total area (ha)': 0.0, 'Total value (eur)': 48400}, {'Name': 'Israel', 'Number': 8, 'Total area (ha)': 0.2, 'Total value (eur)': 99950}, {'Name': 'Latvia', 'Number': 8, 'Total area (ha)': 0.0, 'Total value (eur)': 37420}, {'Name': 'Sweden', 'Number': 5, 'Total area (ha)': 0.2, 'Total value (eur)': 53200}, {'Name': 'Germany', 'Number': 12, 'Total area (ha)': 0.1, 'Total value (eur)': 113587}, {'Name': 'Finland', 'Number': 21, 'Total area (ha)': 0.5, 'Total value (eur)': 224205}, {'Name': 'United Kingdom', 'Number': 15, 'Total area (ha)': 13.0, 'Total value (eur)': 114480}, {'Name': 'Ukraine', 'Number': 25, 'Total area (ha)': 0.1, 'Total value (eur)': 66028}, {'Name': 'Russian Federation', 'Number': 252, 'Total area (ha)': 5.0, 'Total value (eur)': 2363481}, {'Name': 'Other residents', 'Number': 26, 'Total area (ha)': 0.5, 'Total value (eur)': 97590}, {'Name': 'TOTAL', 'Number': 6241, 'Total area (ha)': 3995.0, 'Total value (eur)': 74868987}], '2020': [{'Name': 'Estonia', 'Number': 7053, 'Total area (ha)': 5952.0, 'Total value (eur)': 85916962}, {'Name': 'Latvia', 'Number': 14, 'Total area (ha)': 0.1, 'Total value (eur)': 38690}, {'Name': 'Poland', 'Number': 7, 'Total area (ha)': 0.0, 'Total value (eur)': 21350}, {'Name': 'Sweden', 'Number': 6, 'Total area (ha)': 0.0, 'Total value (eur)': 55100}, {'Name': 'Germany', 'Number': 18, 'Total area (ha)': 0.5, 'Total value (eur)': 147740}, {'Name': 'Finland', 'Number': 33, 'Total area (ha)': 0.4, 'Total value (eur)': 330574}, {'Name': 'United Kingdom', 'Number': 22, 'Total area (ha)': 2.0, 'Total value (eur)': 329450}, {'Name': 'Ukraine', 'Number': 8, 'Total area (ha)': 0.0, 'Total value (eur)': 34100}, {'Name': 'Russian Federation', 'Number': 82, 'Total area (ha)': 0.7000000000000001, 'Total value (eur)': 705588}, {'Name': 'Other residents', 'Number': 24, 'Total area (ha)': 1.0, 'Total value (eur)': 281649}, {'Name': 'TOTAL', 'Number': 7267, 'Total area (ha)': 5956.0, 'Total value (eur)': 87861203}], '2021': [{'Name': 'Estonia', 'Number': 7143, 'Total area (ha)': 5962.0, 'Total value (eur)': 122686571}, {'Name': 'Ireland', 'Number': 8, 'Total area (ha)': 0.1, 'Total value (eur)': 56751}, {'Name': 'Latvia', 'Number': 8, 'Total area (ha)': 5.0, 'Total value (eur)': 81350}, {'Name': 'Germany', 'Number': 16, 'Total area (ha)': 6.0, 'Total value (eur)': 182130}, {'Name': 'Finland', 'Number': 39, 'Total area (ha)': 71.0, 'Total value (eur)': 450582}, {'Name': 'United Kingdom', 'Number': 9, 'Total area (ha)': 0.2, 'Total value (eur)': 232500}, {'Name': 'Ukraine', 'Number': 8, 'Total area (ha)': 0.2, 'Total value (eur)': 36307}, {'Name': 'Russian Federation', 'Number': 213, 'Total area (ha)': 3.0, 'Total value (eur)': 2210138}, {'Name': 'Other residents', 'Number': 34, 'Total area (ha)': 3.0, 'Total value (eur)': 672470}, {'Name': 'TOTAL', 'Number': 7478, 'Total area (ha)': 6050.0, 'Total value (eur)': 126608799}], '2022': [{'Name': 'United States of America', 'Number': 7, 'Total area (ha)': 4.0, 'Total value (eur)': 114500}, {'Name': 'Estonia', 'Number': 6666, 'Total area (ha)': 5011.0, 'Total value (eur)': 163199781}, {'Name': 'Israel', 'Number': 5, 'Total area (ha)': 0.1, 'Total value (eur)': 65704}, {'Name': 'Lithuania', 'Number': 9, 'Total area (ha)': 13.0, 'Total value (eur)': 1358100}, {'Name': 'Latvia', 'Number': 9, 'Total area (ha)': 0.1, 'Total value (eur)': 41600}, {'Name': 'Norway', 'Number': 5, 'Total area (ha)': 0.0, 'Total value (eur)': 23900}, {'Name': 'France', 'Number': 8, 'Total area (ha)': 10.0, 'Total value (eur)': 1107447}, {'Name': 'Sweden', 'Number': 7, 'Total area (ha)': 1.0, 'Total value (eur)': 182347}, {'Name': 'Germany', 'Number': 23, 'Total area (ha)': 2.0, 'Total value (eur)': 511284}, {'Name': 'Finland', 'Number': 32, 'Total area (ha)': 18.0, 'Total value (eur)': 389065}, {'Name': 'United Kingdom', 'Number': 21, 'Total area (ha)': 0.30000000000000004, 'Total value (eur)': 166449}, {'Name': 'Ukraine', 'Number': 25, 'Total area (ha)': 0.2, 'Total value (eur)': 165818}, {'Name': 'Russian Federation', 'Number': 386, 'Total area (ha)': 3.0, 'Total value (eur)': 3003061}, {'Name': 'Other residents', 'Number': 28, 'Total area (ha)': 3.0, 'Total value (eur)': 393280}, {'Name': 'TOTAL', 'Number': 7231, 'Total area (ha)': 5064.0, 'Total value (eur)': 170722336}], '2023': [{'Name': 'Estonia', 'Number': 6279, 'Total area (ha)': 3689.0, 'Total value (eur)': 125088521}, {'Name': 'Spain', 'Number': 11, 'Total area (ha)': 0.2, 'Total value (eur)': 168200}, {'Name': 'Ireland', 'Number': 7, 'Total area (ha)': 0.1, 'Total value (eur)': 73100}, {'Name': 'Canada', 'Number': 6, 'Total area (ha)': 7.0, 'Total value (eur)': 59702}, {'Name': 'Poland', 'Number': 5, 'Total area (ha)': 0.1, 'Total value (eur)': 13200}, {'Name': 'Sweden', 'Number': 11, 'Total area (ha)': 5.0, 'Total value (eur)': 254550}, {'Name': 'Germany', 'Number': 20, 'Total area (ha)': 0.9, 'Total value (eur)': 223000}, {'Name': 'Finland', 'Number': 47, 'Total area (ha)': 6.0, 'Total value (eur)': 809303}, {'Name': 'United Kingdom', 'Number': 19, 'Total area (ha)': 0.5, 'Total value (eur)': 248113}, {'Name': 'Ukraine', 'Number': 47, 'Total area (ha)': 0.4, 'Total value (eur)': 256900}, {'Name': 'Russian Federation', 'Number': 55, 'Total area (ha)': 0.30000000000000004, 'Total value (eur)': 595757}, {'Name': 'Other residents', 'Number': 39, 'Total area (ha)': 0.6000000000000001, 'Total value (eur)': 612450}, {'Name': 'TOTAL', 'Number': 6546, 'Total area (ha)': 3710.0, 'Total value (eur)': 128402797}], '2024': [{'Name': 'United States of America', 'Number': 9, 'Total area (ha)': 0.2, 'Total value (eur)': 353060}, {'Name': 'Estonia', 'Number': 5822, 'Total area (ha)': 3630.0, 'Total value (eur)': 133296426}, {'Name': 'Ireland', 'Number': 5, 'Total area (ha)': 0.2, 'Total value (eur)': 48300}, {'Name': 'Israel', 'Number': 7, 'Total area (ha)': 0.0, 'Total value (eur)': 78650}, {'Name': 'Latvia', 'Number': 7, 'Total area (ha)': 0.1, 'Total value (eur)': 28100}, {'Name': 'Norway', 'Number': 5, 'Total area (ha)': 0.2, 'Total value (eur)': 94400}, {'Name': 'France', 'Number': 5, 'Total area (ha)': 0.0, 'Total value (eur)': 86750}, {'Name': 'Sweden', 'Number': 7, 'Total area (ha)': 0.8, 'Total value (eur)': 119600}, {'Name': 'Germany', 'Number': 34, 'Total area (ha)': 7.0, 'Total value (eur)': 672924}, {'Name': 'Finland', 'Number': 46, 'Total area (ha)': 4.0, 'Total value (eur)': 663186}, {'Name': 'United Kingdom', 'Number': 15, 'Total area (ha)': 1.0, 'Total value (eur)': 215466}, {'Name': 'Ukraine', 'Number': 26, 'Total area (ha)': 0.1, 'Total value (eur)': 174450}, {'Name': 'Russian Federation', 'Number': 38, 'Total area (ha)': 0.8, 'Total value (eur)': 788033}, {'Name': 'Other residents', 'Number': 25, 'Total area (ha)': 0.6000000000000001, 'Total value (eur)': 630600}, {'Name': 'TOTAL', 'Number': 6051, 'Total area (ha)': 3645.0, 'Total value (eur)': 137249945}]}"
        ]
       ],
       "shape": {
        "columns": 2,
        "rows": 3
       }
      },
      "text/html": [
       "<div>\n",
       "<style scoped>\n",
       "    .dataframe tbody tr th:only-of-type {\n",
       "        vertical-align: middle;\n",
       "    }\n",
       "\n",
       "    .dataframe tbody tr th {\n",
       "        vertical-align: top;\n",
       "    }\n",
       "\n",
       "    .dataframe thead th {\n",
       "        text-align: right;\n",
       "    }\n",
       "</style>\n",
       "<table border=\"1\" class=\"dataframe\">\n",
       "  <thead>\n",
       "    <tr style=\"text-align: right;\">\n",
       "      <th></th>\n",
       "      <th>MKOOD</th>\n",
       "      <th>data</th>\n",
       "    </tr>\n",
       "  </thead>\n",
       "  <tbody>\n",
       "    <tr>\n",
       "      <th>0</th>\n",
       "      <td>0037</td>\n",
       "      <td>{'2010': [{'Name': 'United States of America',...</td>\n",
       "    </tr>\n",
       "    <tr>\n",
       "      <th>1</th>\n",
       "      <td>0039</td>\n",
       "      <td>{'2010': [{'Name': 'Estonia', 'Number': 480, '...</td>\n",
       "    </tr>\n",
       "    <tr>\n",
       "      <th>2</th>\n",
       "      <td>0045</td>\n",
       "      <td>{'2010': [{'Name': 'Estonia', 'Number': 4741, ...</td>\n",
       "    </tr>\n",
       "  </tbody>\n",
       "</table>\n",
       "</div>"
      ],
      "text/plain": [
       "  MKOOD                                               data\n",
       "0  0037  {'2010': [{'Name': 'United States of America',...\n",
       "1  0039  {'2010': [{'Name': 'Estonia', 'Number': 480, '...\n",
       "2  0045  {'2010': [{'Name': 'Estonia', 'Number': 4741, ..."
      ]
     },
     "execution_count": 3,
     "metadata": {},
     "output_type": "execute_result"
    }
   ],
   "source": [
    "# read the data from json and parse MKOOD (unique id of the county) as string\n",
    "df_raw = pd.read_json(\n",
    "    \"../app/public/data/transactions_by_residency_of_buyers_county_level.json\",\n",
    "    orient=\"columns\",\n",
    "    dtype={\"MKOOD\": str},\n",
    ")\n",
    "df_raw.head(3)"
   ]
  },
  {
   "cell_type": "code",
   "execution_count": 4,
   "metadata": {},
   "outputs": [
    {
     "data": {
      "text/plain": [
       "{'0037': 'Harju maakond',\n",
       " '0039': 'Hiiu maakond',\n",
       " '0045': 'Ida-Viru maakond',\n",
       " '0052': 'Järva maakond',\n",
       " '0050': 'Jõgeva maakond',\n",
       " '0056': 'Lääne maakond',\n",
       " '0060': 'Lääne-Viru maakond',\n",
       " '0068': 'Pärnu maakond',\n",
       " '0064': 'Põlva maakond',\n",
       " '0071': 'Rapla maakond',\n",
       " '0074': 'Saare maakond',\n",
       " '0079': 'Tartu maakond',\n",
       " '0081': 'Valga maakond',\n",
       " '0084': 'Viljandi maakond',\n",
       " '0087': 'Võru maakond'}"
      ]
     },
     "execution_count": 4,
     "metadata": {},
     "output_type": "execute_result"
    }
   ],
   "source": [
    "# load the mapping from MKOOD to county name\n",
    "mapping = json.load(open(\"../app/public/data/id_to_county.json\"))\n",
    "mapping"
   ]
  },
  {
   "cell_type": "markdown",
   "metadata": {},
   "source": [
    "As the data has been formatted for more convenient operations in Javascript, we first need to extract the data from `data` column."
   ]
  },
  {
   "cell_type": "code",
   "execution_count": 47,
   "metadata": {},
   "outputs": [
    {
     "data": {
      "application/vnd.microsoft.datawrangler.viewer.v0+json": {
       "columns": [
        {
         "name": "index",
         "rawType": "int64",
         "type": "integer"
        },
        {
         "name": "county_id",
         "rawType": "object",
         "type": "string"
        },
        {
         "name": "county_name",
         "rawType": "object",
         "type": "string"
        },
        {
         "name": "year",
         "rawType": "int64",
         "type": "integer"
        },
        {
         "name": "country",
         "rawType": "object",
         "type": "string"
        },
        {
         "name": "count",
         "rawType": "int64",
         "type": "integer"
        },
        {
         "name": "total_area_ha",
         "rawType": "float64",
         "type": "float"
        },
        {
         "name": "total_value_eur",
         "rawType": "float64",
         "type": "float"
        }
       ],
       "conversionMethod": "pd.DataFrame",
       "ref": "635498f7-dafc-4a6a-8e5b-e3d558b6e941",
       "rows": [
        [
         "0",
         "0037",
         "Harju maakond",
         "2010",
         "United States of America",
         "27",
         "26.0",
         "942887.0"
        ],
        [
         "1",
         "0037",
         "Harju maakond",
         "2010",
         "Estonia",
         "19431",
         "10946.0",
         "923437268.0"
        ],
        [
         "2",
         "0037",
         "Harju maakond",
         "2010",
         "Ireland",
         "9",
         "0.2",
         "368575.0"
        ]
       ],
       "shape": {
        "columns": 7,
        "rows": 3
       }
      },
      "text/html": [
       "<div>\n",
       "<style scoped>\n",
       "    .dataframe tbody tr th:only-of-type {\n",
       "        vertical-align: middle;\n",
       "    }\n",
       "\n",
       "    .dataframe tbody tr th {\n",
       "        vertical-align: top;\n",
       "    }\n",
       "\n",
       "    .dataframe thead th {\n",
       "        text-align: right;\n",
       "    }\n",
       "</style>\n",
       "<table border=\"1\" class=\"dataframe\">\n",
       "  <thead>\n",
       "    <tr style=\"text-align: right;\">\n",
       "      <th></th>\n",
       "      <th>county_id</th>\n",
       "      <th>county_name</th>\n",
       "      <th>year</th>\n",
       "      <th>country</th>\n",
       "      <th>count</th>\n",
       "      <th>total_area_ha</th>\n",
       "      <th>total_value_eur</th>\n",
       "    </tr>\n",
       "  </thead>\n",
       "  <tbody>\n",
       "    <tr>\n",
       "      <th>0</th>\n",
       "      <td>0037</td>\n",
       "      <td>Harju maakond</td>\n",
       "      <td>2010</td>\n",
       "      <td>United States of America</td>\n",
       "      <td>27</td>\n",
       "      <td>26.0</td>\n",
       "      <td>9.429e+05</td>\n",
       "    </tr>\n",
       "    <tr>\n",
       "      <th>1</th>\n",
       "      <td>0037</td>\n",
       "      <td>Harju maakond</td>\n",
       "      <td>2010</td>\n",
       "      <td>Estonia</td>\n",
       "      <td>19431</td>\n",
       "      <td>10946.0</td>\n",
       "      <td>9.234e+08</td>\n",
       "    </tr>\n",
       "    <tr>\n",
       "      <th>2</th>\n",
       "      <td>0037</td>\n",
       "      <td>Harju maakond</td>\n",
       "      <td>2010</td>\n",
       "      <td>Ireland</td>\n",
       "      <td>9</td>\n",
       "      <td>0.2</td>\n",
       "      <td>3.686e+05</td>\n",
       "    </tr>\n",
       "  </tbody>\n",
       "</table>\n",
       "</div>"
      ],
      "text/plain": [
       "  county_id    county_name  year                   country  count  \\\n",
       "0      0037  Harju maakond  2010  United States of America     27   \n",
       "1      0037  Harju maakond  2010                   Estonia  19431   \n",
       "2      0037  Harju maakond  2010                   Ireland      9   \n",
       "\n",
       "   total_area_ha  total_value_eur  \n",
       "0           26.0        9.429e+05  \n",
       "1        10946.0        9.234e+08  \n",
       "2            0.2        3.686e+05  "
      ]
     },
     "execution_count": 47,
     "metadata": {},
     "output_type": "execute_result"
    }
   ],
   "source": [
    "updated_rows = []\n",
    "\n",
    "for i, row in df_raw.iterrows():\n",
    "    county_id = row[\"MKOOD\"]\n",
    "\n",
    "    for year, county_data in row.data.items():\n",
    "\n",
    "        for country_data in county_data:\n",
    "            updated_rows.append(\n",
    "                {\n",
    "                    \"county_id\": county_id,\n",
    "                    \"county_name\": mapping[county_id],\n",
    "                    \"year\": year,\n",
    "                    \"country\": country_data[\"Name\"],\n",
    "                    \"count\": country_data[\"Number\"],\n",
    "                    \"total_area_ha\": country_data[\"Total area (ha)\"],\n",
    "                    \"total_value_eur\": country_data[\"Total value (eur)\"],\n",
    "                }\n",
    "            )\n",
    "\n",
    "df = pd.DataFrame(updated_rows)\n",
    "\n",
    "df.total_value_eur = pd.to_numeric(df.total_value_eur.replace('***', np.nan), errors='coerce')\n",
    "df.total_area_ha = pd.to_numeric(df.total_area_ha.replace('***', np.nan), errors='coerce')\n",
    "df.year = pd.to_numeric(df.year, errors='coerce')\n",
    "\n",
    "# remove entries with TOTAL as the country name\n",
    "df = df[df.country != \"TOTAL\"]\n",
    "\n",
    "df.head(3)"
   ]
  },
  {
   "cell_type": "markdown",
   "metadata": {},
   "source": [
    "Now there's an entry per `county`, `year` and `country` (of buyers). For every row we have statistics about:\n",
    "\n",
    "- the number of transactions; \n",
    "- total area in hectares that has changed the owner and;\n",
    "- its corresponding value in euros. "
   ]
  },
  {
   "cell_type": "markdown",
   "metadata": {},
   "source": [
    "### Analysis\n",
    "\n",
    "When we think about he visualization, comparing the number of transactions by the residency of buyers / sellers might not give us too much insights since Estonians are naturally buying and selling most. The same applies to area in hectares. What might be interesting though is to see **how much money flows in our out from different countries to Estonian property market**."
   ]
  },
  {
   "cell_type": "code",
   "execution_count": 48,
   "metadata": {},
   "outputs": [
    {
     "data": {
      "text/plain": [
       "(np.int64(2010), np.int64(2024))"
      ]
     },
     "execution_count": 48,
     "metadata": {},
     "output_type": "execute_result"
    }
   ],
   "source": [
    "df.year.min(), df.year.max()"
   ]
  },
  {
   "cell_type": "code",
   "execution_count": 50,
   "metadata": {},
   "outputs": [
    {
     "data": {
      "application/vnd.microsoft.datawrangler.viewer.v0+json": {
       "columns": [
        {
         "name": "index",
         "rawType": "int64",
         "type": "integer"
        },
        {
         "name": "country",
         "rawType": "object",
         "type": "string"
        },
        {
         "name": "total_value_eur",
         "rawType": "float64",
         "type": "float"
        }
       ],
       "conversionMethod": "pd.DataFrame",
       "ref": "b5321e5b-c6f9-4407-89cb-cf6af0770ae3",
       "rows": [
        [
         "0",
         "Estonia",
         "53352119110.0"
        ],
        [
         "1",
         "Finland",
         "332052709.0"
        ],
        [
         "2",
         "Other residents",
         "187720860.0"
        ],
        [
         "3",
         "Russian Federation",
         "163739301.0"
        ],
        [
         "4",
         "France",
         "59019121.0"
        ],
        [
         "5",
         "Germany",
         "50754372.0"
        ],
        [
         "6",
         "United States of America",
         "48061630.0"
        ],
        [
         "7",
         "United Kingdom",
         "44149851.0"
        ],
        [
         "8",
         "Sweden",
         "38239906.0"
        ],
        [
         "9",
         "Monaco",
         "21655724.0"
        ],
        [
         "10",
         "Ukraine",
         "17406704.0"
        ],
        [
         "11",
         "Latvia",
         "13134467.0"
        ],
        [
         "12",
         "Switzerland",
         "12507751.0"
        ],
        [
         "13",
         "Netherlands",
         "9516986.0"
        ],
        [
         "14",
         "Norway",
         "8484463.0"
        ],
        [
         "15",
         "Italy",
         "7526380.0"
        ],
        [
         "16",
         "Belgium",
         "7339138.0"
        ],
        [
         "17",
         "Israel",
         "5393720.0"
        ],
        [
         "18",
         "Canada",
         "3594887.0"
        ],
        [
         "19",
         "Luxembourg",
         "3544476.0"
        ],
        [
         "20",
         "United Arab Emirates",
         "3530565.0"
        ],
        [
         "21",
         "Turkey",
         "3191374.0"
        ],
        [
         "22",
         "Belarus",
         "3144178.0"
        ],
        [
         "23",
         "Cyprus",
         "3056165.0"
        ],
        [
         "24",
         "Lithuania",
         "3007680.0"
        ],
        [
         "25",
         "Spain",
         "2910329.0"
        ],
        [
         "26",
         "Australia",
         "2874181.0"
        ],
        [
         "27",
         "Poland",
         "2226430.0"
        ],
        [
         "28",
         "Ireland",
         "2119877.0"
        ],
        [
         "29",
         "Denmark",
         "1874050.0"
        ],
        [
         "30",
         "China",
         "1135998.0"
        ],
        [
         "31",
         "Virgin Islands (British)",
         "1027000.0"
        ],
        [
         "32",
         "Austria",
         "943500.0"
        ],
        [
         "33",
         "Uzbekistan",
         "894000.0"
        ],
        [
         "34",
         "India",
         "874850.0"
        ],
        [
         "35",
         "Romania",
         "809000.0"
        ],
        [
         "36",
         "Nigeria",
         "592000.0"
        ],
        [
         "37",
         "Japan",
         "468169.0"
        ],
        [
         "38",
         "Brazil",
         "374900.0"
        ],
        [
         "39",
         "Portugal",
         "198500.0"
        ],
        [
         "40",
         "Palestine, State of",
         "19845.0"
        ],
        [
         "41",
         "Georgia",
         "12845.0"
        ],
        [
         "42",
         "Moldova, Republic of",
         "10235.0"
        ]
       ],
       "shape": {
        "columns": 2,
        "rows": 43
       }
      },
      "text/html": [
       "<div>\n",
       "<style scoped>\n",
       "    .dataframe tbody tr th:only-of-type {\n",
       "        vertical-align: middle;\n",
       "    }\n",
       "\n",
       "    .dataframe tbody tr th {\n",
       "        vertical-align: top;\n",
       "    }\n",
       "\n",
       "    .dataframe thead th {\n",
       "        text-align: right;\n",
       "    }\n",
       "</style>\n",
       "<table border=\"1\" class=\"dataframe\">\n",
       "  <thead>\n",
       "    <tr style=\"text-align: right;\">\n",
       "      <th></th>\n",
       "      <th>country</th>\n",
       "      <th>total_value_eur</th>\n",
       "    </tr>\n",
       "  </thead>\n",
       "  <tbody>\n",
       "    <tr>\n",
       "      <th>0</th>\n",
       "      <td>Estonia</td>\n",
       "      <td>5.335e+10</td>\n",
       "    </tr>\n",
       "    <tr>\n",
       "      <th>1</th>\n",
       "      <td>Finland</td>\n",
       "      <td>3.321e+08</td>\n",
       "    </tr>\n",
       "    <tr>\n",
       "      <th>2</th>\n",
       "      <td>Other residents</td>\n",
       "      <td>1.877e+08</td>\n",
       "    </tr>\n",
       "    <tr>\n",
       "      <th>3</th>\n",
       "      <td>Russian Federation</td>\n",
       "      <td>1.637e+08</td>\n",
       "    </tr>\n",
       "    <tr>\n",
       "      <th>4</th>\n",
       "      <td>France</td>\n",
       "      <td>5.902e+07</td>\n",
       "    </tr>\n",
       "    <tr>\n",
       "      <th>5</th>\n",
       "      <td>Germany</td>\n",
       "      <td>5.075e+07</td>\n",
       "    </tr>\n",
       "    <tr>\n",
       "      <th>6</th>\n",
       "      <td>United States of America</td>\n",
       "      <td>4.806e+07</td>\n",
       "    </tr>\n",
       "    <tr>\n",
       "      <th>7</th>\n",
       "      <td>United Kingdom</td>\n",
       "      <td>4.415e+07</td>\n",
       "    </tr>\n",
       "    <tr>\n",
       "      <th>8</th>\n",
       "      <td>Sweden</td>\n",
       "      <td>3.824e+07</td>\n",
       "    </tr>\n",
       "    <tr>\n",
       "      <th>9</th>\n",
       "      <td>Monaco</td>\n",
       "      <td>2.166e+07</td>\n",
       "    </tr>\n",
       "    <tr>\n",
       "      <th>10</th>\n",
       "      <td>Ukraine</td>\n",
       "      <td>1.741e+07</td>\n",
       "    </tr>\n",
       "    <tr>\n",
       "      <th>11</th>\n",
       "      <td>Latvia</td>\n",
       "      <td>1.313e+07</td>\n",
       "    </tr>\n",
       "    <tr>\n",
       "      <th>12</th>\n",
       "      <td>Switzerland</td>\n",
       "      <td>1.251e+07</td>\n",
       "    </tr>\n",
       "    <tr>\n",
       "      <th>13</th>\n",
       "      <td>Netherlands</td>\n",
       "      <td>9.517e+06</td>\n",
       "    </tr>\n",
       "    <tr>\n",
       "      <th>14</th>\n",
       "      <td>Norway</td>\n",
       "      <td>8.484e+06</td>\n",
       "    </tr>\n",
       "    <tr>\n",
       "      <th>15</th>\n",
       "      <td>Italy</td>\n",
       "      <td>7.526e+06</td>\n",
       "    </tr>\n",
       "    <tr>\n",
       "      <th>16</th>\n",
       "      <td>Belgium</td>\n",
       "      <td>7.339e+06</td>\n",
       "    </tr>\n",
       "    <tr>\n",
       "      <th>17</th>\n",
       "      <td>Israel</td>\n",
       "      <td>5.394e+06</td>\n",
       "    </tr>\n",
       "    <tr>\n",
       "      <th>18</th>\n",
       "      <td>Canada</td>\n",
       "      <td>3.595e+06</td>\n",
       "    </tr>\n",
       "    <tr>\n",
       "      <th>19</th>\n",
       "      <td>Luxembourg</td>\n",
       "      <td>3.544e+06</td>\n",
       "    </tr>\n",
       "    <tr>\n",
       "      <th>20</th>\n",
       "      <td>United Arab Emirates</td>\n",
       "      <td>3.531e+06</td>\n",
       "    </tr>\n",
       "    <tr>\n",
       "      <th>21</th>\n",
       "      <td>Turkey</td>\n",
       "      <td>3.191e+06</td>\n",
       "    </tr>\n",
       "    <tr>\n",
       "      <th>22</th>\n",
       "      <td>Belarus</td>\n",
       "      <td>3.144e+06</td>\n",
       "    </tr>\n",
       "    <tr>\n",
       "      <th>23</th>\n",
       "      <td>Cyprus</td>\n",
       "      <td>3.056e+06</td>\n",
       "    </tr>\n",
       "    <tr>\n",
       "      <th>24</th>\n",
       "      <td>Lithuania</td>\n",
       "      <td>3.008e+06</td>\n",
       "    </tr>\n",
       "    <tr>\n",
       "      <th>25</th>\n",
       "      <td>Spain</td>\n",
       "      <td>2.910e+06</td>\n",
       "    </tr>\n",
       "    <tr>\n",
       "      <th>26</th>\n",
       "      <td>Australia</td>\n",
       "      <td>2.874e+06</td>\n",
       "    </tr>\n",
       "    <tr>\n",
       "      <th>27</th>\n",
       "      <td>Poland</td>\n",
       "      <td>2.226e+06</td>\n",
       "    </tr>\n",
       "    <tr>\n",
       "      <th>28</th>\n",
       "      <td>Ireland</td>\n",
       "      <td>2.120e+06</td>\n",
       "    </tr>\n",
       "    <tr>\n",
       "      <th>29</th>\n",
       "      <td>Denmark</td>\n",
       "      <td>1.874e+06</td>\n",
       "    </tr>\n",
       "    <tr>\n",
       "      <th>30</th>\n",
       "      <td>China</td>\n",
       "      <td>1.136e+06</td>\n",
       "    </tr>\n",
       "    <tr>\n",
       "      <th>31</th>\n",
       "      <td>Virgin Islands (British)</td>\n",
       "      <td>1.027e+06</td>\n",
       "    </tr>\n",
       "    <tr>\n",
       "      <th>32</th>\n",
       "      <td>Austria</td>\n",
       "      <td>9.435e+05</td>\n",
       "    </tr>\n",
       "    <tr>\n",
       "      <th>33</th>\n",
       "      <td>Uzbekistan</td>\n",
       "      <td>8.940e+05</td>\n",
       "    </tr>\n",
       "    <tr>\n",
       "      <th>34</th>\n",
       "      <td>India</td>\n",
       "      <td>8.748e+05</td>\n",
       "    </tr>\n",
       "    <tr>\n",
       "      <th>35</th>\n",
       "      <td>Romania</td>\n",
       "      <td>8.090e+05</td>\n",
       "    </tr>\n",
       "    <tr>\n",
       "      <th>36</th>\n",
       "      <td>Nigeria</td>\n",
       "      <td>5.920e+05</td>\n",
       "    </tr>\n",
       "    <tr>\n",
       "      <th>37</th>\n",
       "      <td>Japan</td>\n",
       "      <td>4.682e+05</td>\n",
       "    </tr>\n",
       "    <tr>\n",
       "      <th>38</th>\n",
       "      <td>Brazil</td>\n",
       "      <td>3.749e+05</td>\n",
       "    </tr>\n",
       "    <tr>\n",
       "      <th>39</th>\n",
       "      <td>Portugal</td>\n",
       "      <td>1.985e+05</td>\n",
       "    </tr>\n",
       "    <tr>\n",
       "      <th>40</th>\n",
       "      <td>Palestine, State of</td>\n",
       "      <td>1.984e+04</td>\n",
       "    </tr>\n",
       "    <tr>\n",
       "      <th>41</th>\n",
       "      <td>Georgia</td>\n",
       "      <td>1.284e+04</td>\n",
       "    </tr>\n",
       "    <tr>\n",
       "      <th>42</th>\n",
       "      <td>Moldova, Republic of</td>\n",
       "      <td>1.024e+04</td>\n",
       "    </tr>\n",
       "  </tbody>\n",
       "</table>\n",
       "</div>"
      ],
      "text/plain": [
       "                     country  total_value_eur\n",
       "0                    Estonia        5.335e+10\n",
       "1                    Finland        3.321e+08\n",
       "2            Other residents        1.877e+08\n",
       "3         Russian Federation        1.637e+08\n",
       "4                     France        5.902e+07\n",
       "5                    Germany        5.075e+07\n",
       "6   United States of America        4.806e+07\n",
       "7             United Kingdom        4.415e+07\n",
       "8                     Sweden        3.824e+07\n",
       "9                     Monaco        2.166e+07\n",
       "10                   Ukraine        1.741e+07\n",
       "11                    Latvia        1.313e+07\n",
       "12               Switzerland        1.251e+07\n",
       "13               Netherlands        9.517e+06\n",
       "14                    Norway        8.484e+06\n",
       "15                     Italy        7.526e+06\n",
       "16                   Belgium        7.339e+06\n",
       "17                    Israel        5.394e+06\n",
       "18                    Canada        3.595e+06\n",
       "19                Luxembourg        3.544e+06\n",
       "20      United Arab Emirates        3.531e+06\n",
       "21                    Turkey        3.191e+06\n",
       "22                   Belarus        3.144e+06\n",
       "23                    Cyprus        3.056e+06\n",
       "24                 Lithuania        3.008e+06\n",
       "25                     Spain        2.910e+06\n",
       "26                 Australia        2.874e+06\n",
       "27                    Poland        2.226e+06\n",
       "28                   Ireland        2.120e+06\n",
       "29                   Denmark        1.874e+06\n",
       "30                     China        1.136e+06\n",
       "31  Virgin Islands (British)        1.027e+06\n",
       "32                   Austria        9.435e+05\n",
       "33                Uzbekistan        8.940e+05\n",
       "34                     India        8.748e+05\n",
       "35                   Romania        8.090e+05\n",
       "36                   Nigeria        5.920e+05\n",
       "37                     Japan        4.682e+05\n",
       "38                    Brazil        3.749e+05\n",
       "39                  Portugal        1.985e+05\n",
       "40       Palestine, State of        1.984e+04\n",
       "41                   Georgia        1.284e+04\n",
       "42      Moldova, Republic of        1.024e+04"
      ]
     },
     "execution_count": 50,
     "metadata": {},
     "output_type": "execute_result"
    }
   ],
   "source": [
    "# let's see the number of unique countries and their corresponding amounts over 14 years\n",
    "df.groupby(\"country\").total_value_eur.sum().sort_values(ascending=False).reset_index()"
   ]
  },
  {
   "cell_type": "markdown",
   "metadata": {},
   "source": [
    "### Visualizations\n",
    "\n",
    "As can be seen from table above, naturally Estonians have spent the most, and the difference is in orders of magnitude, but at it also gives an overview of the countries most invested in the property market in Estonia. So our aim is to visualize the size of parts from the whole and for that purpose **treemap** is a perfect candidate."
   ]
  },
  {
   "cell_type": "code",
   "execution_count": null,
   "metadata": {},
   "outputs": [
    {
     "data": {
      "application/vnd.microsoft.datawrangler.viewer.v0+json": {
       "columns": [
        {
         "name": "index",
         "rawType": "int64",
         "type": "integer"
        },
        {
         "name": "country",
         "rawType": "object",
         "type": "string"
        },
        {
         "name": "total_value_eur",
         "rawType": "float64",
         "type": "float"
        }
       ],
       "conversionMethod": "pd.DataFrame",
       "ref": "bdf04366-418a-4183-8ad3-f3831e6bcc9d",
       "rows": [
        [
         "0",
         "Estonia",
         "3574011769.0"
        ],
        [
         "1",
         "France",
         "11945000.0"
        ],
        [
         "2",
         "Other residents",
         "7914640.0"
        ],
        [
         "3",
         "Finland",
         "7838268.0"
        ],
        [
         "4",
         "United States of America",
         "3898275.0"
        ],
        [
         "5",
         "Germany",
         "3313273.0"
        ],
        [
         "6",
         "Russian Federation",
         "2784600.0"
        ],
        [
         "7",
         "Ukraine",
         "1961600.0"
        ],
        [
         "8",
         "Netherlands",
         "1798224.0"
        ],
        [
         "9",
         "United Kingdom",
         "1741735.0"
        ],
        [
         "10",
         "Italy",
         "1455841.0"
        ],
        [
         "11",
         "Norway",
         "1235480.0"
        ],
        [
         "12",
         "Sweden",
         "1104700.0"
        ],
        [
         "13",
         "Luxembourg",
         "1063761.0"
        ],
        [
         "14",
         "Spain",
         "968207.0"
        ],
        [
         "15",
         "Romania",
         "809000.0"
        ],
        [
         "16",
         "Turkey",
         "752750.0"
        ],
        [
         "17",
         "Switzerland",
         "624200.0"
        ],
        [
         "18",
         "Israel",
         "624200.0"
        ],
        [
         "19",
         "Latvia",
         "412000.0"
        ],
        [
         "20",
         "Belarus",
         "389950.0"
        ]
       ],
       "shape": {
        "columns": 2,
        "rows": 21
       }
      },
      "text/html": [
       "<div>\n",
       "<style scoped>\n",
       "    .dataframe tbody tr th:only-of-type {\n",
       "        vertical-align: middle;\n",
       "    }\n",
       "\n",
       "    .dataframe tbody tr th {\n",
       "        vertical-align: top;\n",
       "    }\n",
       "\n",
       "    .dataframe thead th {\n",
       "        text-align: right;\n",
       "    }\n",
       "</style>\n",
       "<table border=\"1\" class=\"dataframe\">\n",
       "  <thead>\n",
       "    <tr style=\"text-align: right;\">\n",
       "      <th></th>\n",
       "      <th>country</th>\n",
       "      <th>total_value_eur</th>\n",
       "    </tr>\n",
       "  </thead>\n",
       "  <tbody>\n",
       "    <tr>\n",
       "      <th>0</th>\n",
       "      <td>Estonia</td>\n",
       "      <td>3.574e+09</td>\n",
       "    </tr>\n",
       "    <tr>\n",
       "      <th>1</th>\n",
       "      <td>France</td>\n",
       "      <td>1.194e+07</td>\n",
       "    </tr>\n",
       "    <tr>\n",
       "      <th>2</th>\n",
       "      <td>Other residents</td>\n",
       "      <td>7.915e+06</td>\n",
       "    </tr>\n",
       "    <tr>\n",
       "      <th>3</th>\n",
       "      <td>Finland</td>\n",
       "      <td>7.838e+06</td>\n",
       "    </tr>\n",
       "    <tr>\n",
       "      <th>4</th>\n",
       "      <td>United States of America</td>\n",
       "      <td>3.898e+06</td>\n",
       "    </tr>\n",
       "    <tr>\n",
       "      <th>5</th>\n",
       "      <td>Germany</td>\n",
       "      <td>3.313e+06</td>\n",
       "    </tr>\n",
       "    <tr>\n",
       "      <th>6</th>\n",
       "      <td>Russian Federation</td>\n",
       "      <td>2.785e+06</td>\n",
       "    </tr>\n",
       "    <tr>\n",
       "      <th>7</th>\n",
       "      <td>Ukraine</td>\n",
       "      <td>1.962e+06</td>\n",
       "    </tr>\n",
       "    <tr>\n",
       "      <th>8</th>\n",
       "      <td>Netherlands</td>\n",
       "      <td>1.798e+06</td>\n",
       "    </tr>\n",
       "    <tr>\n",
       "      <th>9</th>\n",
       "      <td>United Kingdom</td>\n",
       "      <td>1.742e+06</td>\n",
       "    </tr>\n",
       "    <tr>\n",
       "      <th>10</th>\n",
       "      <td>Italy</td>\n",
       "      <td>1.456e+06</td>\n",
       "    </tr>\n",
       "    <tr>\n",
       "      <th>11</th>\n",
       "      <td>Norway</td>\n",
       "      <td>1.235e+06</td>\n",
       "    </tr>\n",
       "    <tr>\n",
       "      <th>12</th>\n",
       "      <td>Sweden</td>\n",
       "      <td>1.105e+06</td>\n",
       "    </tr>\n",
       "    <tr>\n",
       "      <th>13</th>\n",
       "      <td>Luxembourg</td>\n",
       "      <td>1.064e+06</td>\n",
       "    </tr>\n",
       "    <tr>\n",
       "      <th>14</th>\n",
       "      <td>Spain</td>\n",
       "      <td>9.682e+05</td>\n",
       "    </tr>\n",
       "    <tr>\n",
       "      <th>15</th>\n",
       "      <td>Romania</td>\n",
       "      <td>8.090e+05</td>\n",
       "    </tr>\n",
       "    <tr>\n",
       "      <th>16</th>\n",
       "      <td>Turkey</td>\n",
       "      <td>7.528e+05</td>\n",
       "    </tr>\n",
       "    <tr>\n",
       "      <th>17</th>\n",
       "      <td>Switzerland</td>\n",
       "      <td>6.242e+05</td>\n",
       "    </tr>\n",
       "    <tr>\n",
       "      <th>18</th>\n",
       "      <td>Israel</td>\n",
       "      <td>6.242e+05</td>\n",
       "    </tr>\n",
       "    <tr>\n",
       "      <th>19</th>\n",
       "      <td>Latvia</td>\n",
       "      <td>4.120e+05</td>\n",
       "    </tr>\n",
       "    <tr>\n",
       "      <th>20</th>\n",
       "      <td>Belarus</td>\n",
       "      <td>3.900e+05</td>\n",
       "    </tr>\n",
       "  </tbody>\n",
       "</table>\n",
       "</div>"
      ],
      "text/plain": [
       "                     country  total_value_eur\n",
       "0                    Estonia        3.574e+09\n",
       "1                     France        1.194e+07\n",
       "2            Other residents        7.915e+06\n",
       "3                    Finland        7.838e+06\n",
       "4   United States of America        3.898e+06\n",
       "5                    Germany        3.313e+06\n",
       "6         Russian Federation        2.785e+06\n",
       "7                    Ukraine        1.962e+06\n",
       "8                Netherlands        1.798e+06\n",
       "9             United Kingdom        1.742e+06\n",
       "10                     Italy        1.456e+06\n",
       "11                    Norway        1.235e+06\n",
       "12                    Sweden        1.105e+06\n",
       "13                Luxembourg        1.064e+06\n",
       "14                     Spain        9.682e+05\n",
       "15                   Romania        8.090e+05\n",
       "16                    Turkey        7.528e+05\n",
       "17               Switzerland        6.242e+05\n",
       "18                    Israel        6.242e+05\n",
       "19                    Latvia        4.120e+05\n",
       "20                   Belarus        3.900e+05"
      ]
     },
     "execution_count": 54,
     "metadata": {},
     "output_type": "execute_result"
    }
   ],
   "source": [
    "# filter the map to have only one certain county (Harjumaa) and year (2024)\n",
    "df_plot = df[(df.county_id == \"0037\") & (df.year == 2024)]\n",
    "df_plot = df_plot.groupby([\"country\"]).total_value_eur.sum().sort_values(ascending=False).reset_index()\n",
    "df_plot"
   ]
  },
  {
   "cell_type": "code",
   "execution_count": null,
   "metadata": {},
   "outputs": [
    {
     "data": {
      "image/png": "[encoded data removed]",
      "text/plain": [
       "<Figure size 640x480 with 1 Axes>"
      ]
     },
     "metadata": {},
     "output_type": "display_data"
    }
   ],
   "source": [
    "# generate treemap visualization from df_plot dataframe using plt\n",
    "squarify.plot(\n",
    "    sizes=df_plot.total_value_eur.tolist(), \n",
    "    label=df_plot.country.tolist(), \n",
    "    alpha=0.7\n",
    ")\n",
    "plt.axis('on')\n",
    "plt.show()"
   ]
  },
  {
   "cell_type": "markdown",
   "metadata": {},
   "source": [
    "As can be seen, the value of visualization is not useful, when 1 country takes more than 90% of the whole chart. Let's remove Estonia and try again."
   ]
  },
  {
   "cell_type": "code",
   "execution_count": 57,
   "metadata": {},
   "outputs": [
    {
     "data": {
      "image/png": "[encoded data removed]",
      "text/plain": [
       "<Figure size 640x480 with 1 Axes>"
      ]
     },
     "metadata": {},
     "output_type": "display_data"
    }
   ],
   "source": [
    "df_plot_wo_est = df_plot[df_plot.country != \"Estonia\"]\n",
    "squarify.plot(\n",
    "    sizes=df_plot_wo_est.total_value_eur.tolist(), \n",
    "    label=df_plot_wo_est.country.tolist(), \n",
    "    alpha=0.7\n",
    ")\n",
    "plt.axis('on')\n",
    "plt.show()"
   ]
  },
  {
   "cell_type": "markdown",
   "metadata": {},
   "source": [
    "Since we have the data for 14 years, we can visualize the changes between different years, but also compare counties and compare the nationalities and magnitudes of investments from different countries. Considering that we now remove Estonia, we could also include number of transactions and area to visualization (as dropdown for example)."
   ]
  }
 ],
 "metadata": {
  "kernelspec": {
   "display_name": ".venv",
   "language": "python",
   "name": "python3"
  },
  "language_info": {
   "codemirror_mode": {
    "name": "ipython",
    "version": 3
   },
   "file_extension": ".py",
   "mimetype": "text/x-python",
   "name": "python",
   "nbconvert_exporter": "python",
   "pygments_lexer": "ipython3",
   "version": "3.13.1"
  }
 },
 "nbformat": 4,
 "nbformat_minor": 2
}
